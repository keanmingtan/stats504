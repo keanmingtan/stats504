{
 "cells": [
  {
   "cell_type": "code",
   "execution_count": 1,
   "id": "838dbc46",
   "metadata": {
    "slideshow": {
     "slide_type": "notes"
    }
   },
   "outputs": [
    {
     "name": "stderr",
     "output_type": "stream",
     "text": [
      "── \u001b[1mAttaching core tidyverse packages\u001b[22m ──────────────────────── tidyverse 2.0.0 ──\n",
      "\u001b[32m✔\u001b[39m \u001b[34mdplyr    \u001b[39m 1.1.4     \u001b[32m✔\u001b[39m \u001b[34mreadr    \u001b[39m 2.1.5\n",
      "\u001b[32m✔\u001b[39m \u001b[34mforcats  \u001b[39m 1.0.0     \u001b[32m✔\u001b[39m \u001b[34mstringr  \u001b[39m 1.5.1\n",
      "\u001b[32m✔\u001b[39m \u001b[34mggplot2  \u001b[39m 3.5.2     \u001b[32m✔\u001b[39m \u001b[34mtibble   \u001b[39m 3.3.0\n",
      "\u001b[32m✔\u001b[39m \u001b[34mlubridate\u001b[39m 1.9.4     \u001b[32m✔\u001b[39m \u001b[34mtidyr    \u001b[39m 1.3.1\n",
      "\u001b[32m✔\u001b[39m \u001b[34mpurrr    \u001b[39m 1.1.0     \n",
      "── \u001b[1mConflicts\u001b[22m ────────────────────────────────────────── tidyverse_conflicts() ──\n",
      "\u001b[31m✖\u001b[39m \u001b[34mdplyr\u001b[39m::\u001b[32mfilter()\u001b[39m masks \u001b[34mstats\u001b[39m::filter()\n",
      "\u001b[31m✖\u001b[39m \u001b[34mdplyr\u001b[39m::\u001b[32mlag()\u001b[39m    masks \u001b[34mstats\u001b[39m::lag()\n",
      "\u001b[36mℹ\u001b[39m Use the conflicted package (\u001b[3m\u001b[34m<http://conflicted.r-lib.org/>\u001b[39m\u001b[23m) to force all conflicts to become errors\n"
     ]
    }
   ],
   "source": [
    "library(tidyverse)\n",
    "theme_set(theme_classic())\n",
    "options(repr.plot.width=10, repr.plot.height=5)"
   ]
  },
  {
   "cell_type": "markdown",
   "id": "8c16043a",
   "metadata": {
    "slideshow": {
     "slide_type": "slide"
    }
   },
   "source": [
    "# STATS 504\n",
    "## Week 5: NHANES data"
   ]
  },
  {
   "cell_type": "markdown",
   "id": "2e5fa63a",
   "metadata": {
    "slideshow": {
     "slide_type": "slide"
    }
   },
   "source": [
    "## The data\n",
    "\n",
    "- [**NHANES**](https://www.cdc.gov/nchs/nhanes/index.htm) stands for the National Health and Nutrition Examination Survey.\n",
    "- Series of studies designed to assess the health and nutritional status of adults and children in the United States.\n",
    "- Conducted by the National Center for Health Statistics (NCHS), part of the Centers for Disease Control and Prevention (CDC)."
   ]
  },
  {
   "cell_type": "markdown",
   "id": "897e1536",
   "metadata": {
    "slideshow": {
     "slide_type": "slide"
    }
   },
   "source": [
    "## Purpose of NHANES\n",
    "\n",
    "- To determine the prevalence of major diseases and risk factors for diseases.\n",
    "- To assess nutritional status and its association with health promotion and disease prevention.\n",
    "- To guide public health policy and priorities.\n"
   ]
  },
  {
   "cell_type": "markdown",
   "id": "769279a8",
   "metadata": {
    "slideshow": {
     "slide_type": "slide"
    }
   },
   "source": [
    "\n",
    "## How NHANES Works\n",
    "\n",
    "- NHANES combines interviews and physical examinations.\n",
    "- The interview includes demographic, socioeconomic, dietary, and health-related questions.\n",
    "- The examination part includes medical, dental, and physiological measurements, as well as laboratory tests administered by medical personnel.\n",
    "- NHANES data is collected in 2-year cycles and released in public-use data files."
   ]
  },
  {
   "cell_type": "markdown",
   "id": "ab23f5ba",
   "metadata": {
    "slideshow": {
     "slide_type": "slide"
    }
   },
   "source": [
    "## Questions we will study today\n",
    "1. Is height associated with income? (Does height *cause* you to have higher income?)\n",
    "2. Is smoking associated with high blood pressure (hypertension)?\n",
    "3. How does TV watching affect body weight?"
   ]
  },
  {
   "cell_type": "markdown",
   "id": "0a96dab4",
   "metadata": {
    "slideshow": {
     "slide_type": "notes"
    }
   },
   "source": [
    "For today's lecture we will use the following \"pre-packaged\" NHANES extracted dataset:"
   ]
  },
  {
   "cell_type": "code",
   "execution_count": 2,
   "id": "356d2934",
   "metadata": {
    "slideshow": {
     "slide_type": "slide"
    }
   },
   "outputs": [],
   "source": [
    "# install.packages('NHANES')\n",
    "library(NHANES)\n",
    "data(NHANES)\n",
    "\n",
    "help(NHANES)"
   ]
  },
  {
   "cell_type": "markdown",
   "id": "2b41b921",
   "metadata": {
    "slideshow": {
     "slide_type": "notes"
    }
   },
   "source": [
    "(Next lecture, we will see how to import the raw data directly off their website.)"
   ]
  },
  {
   "cell_type": "code",
   "execution_count": 4,
   "id": "bc19d014",
   "metadata": {},
   "outputs": [],
   "source": [
    "?NHANES"
   ]
  },
  {
   "cell_type": "markdown",
   "id": "9f1bfbd1",
   "metadata": {
    "slideshow": {
     "slide_type": "slide"
    }
   },
   "source": [
    "## Height vs. income\n",
    "It is often claimed that taller people earn more money. Do we see this in the data?"
   ]
  },
  {
   "cell_type": "markdown",
   "id": "e6b1f341",
   "metadata": {
    "slideshow": {
     "slide_type": "slide"
    }
   },
   "source": [
    "## Quiz 🤷  \n",
    "\n",
    "Comparing the mean height of the highest income level vs. everyone else, we find that:\n",
    "\n",
    "<ol style=\"list-style-type: upper-alpha;\">\n",
    "    <li> Mean height among the richest individuals is significantly <emph>higher</emph> compared to the rest.\n",
    "    <li> Mean height among the richest individuals is significantly <emph>lower</emph> compared to the rest..\n",
    "    <li> Mean height among the richest individuals is <b>in</b>significantly <emph>higher</emph> compared to the rest.\n",
    "    <li> Mean height among the richest individuals is <b>in</b>significantly <emph>lower</emph> compared to the rest.</ol>\n",
    "\n",
    "\"Significant\" means statistically significant at the $\\alpha=0.05$ level."
   ]
  },
  {
   "cell_type": "code",
   "execution_count": null,
   "id": "0dd89a2a",
   "metadata": {},
   "outputs": [],
   "source": []
  },
  {
   "cell_type": "markdown",
   "id": "d641b987",
   "metadata": {
    "slideshow": {
     "slide_type": "slide"
    }
   },
   "source": [
    "Let's try stratifying income into quartiles:"
   ]
  },
  {
   "cell_type": "code",
   "execution_count": null,
   "id": "2ea3b399",
   "metadata": {},
   "outputs": [],
   "source": []
  },
  {
   "cell_type": "markdown",
   "id": "a0b577e0",
   "metadata": {
    "slideshow": {
     "slide_type": "slide"
    }
   },
   "source": [
    "## Digression: association vs. causation\n",
    "- The preceding analyses reveal that there is strong *association* between income and height.\n",
    "- Does that mean that being taller *causes you* to have higher income? (Why or why not?)\n",
    "- (We will return to these points in a future lecture.)"
   ]
  },
  {
   "cell_type": "markdown",
   "id": "1c62f1fd",
   "metadata": {
    "slideshow": {
     "slide_type": "slide"
    }
   },
   "source": [
    "## Is blood pressure elevated in smokers?\n",
    "\n",
    "- Smoking tobacco increases heart rate and blood pressure. Long-term smoking can lead to the development of hypertension and other cardiovascular diseases.\n",
    "- Nicotine from cigarettes stimulates the body to produce adrenaline, which accelerates the heart rate and raises blood pressure. Other chemicals in tobacco can damage the arterial walls, contributing to heart conditions.\n",
    "- Some studies have shown a correlation between smoking and increased risk of developing hypertension. This relationship is dose-dependent, with heavier smoking leading to greater risks.\n",
    "- Do we see such a relationship in the NHANES data?"
   ]
  },
  {
   "cell_type": "code",
   "execution_count": null,
   "id": "d29442e7",
   "metadata": {},
   "outputs": [],
   "source": []
  },
  {
   "cell_type": "markdown",
   "id": "09108948",
   "metadata": {
    "slideshow": {
     "slide_type": "notes"
    }
   },
   "source": [
    "It's visually hard for me to distinguish these two distributions. "
   ]
  },
  {
   "cell_type": "markdown",
   "id": "57c98289",
   "metadata": {
    "slideshow": {
     "slide_type": "slide"
    }
   },
   "source": [
    "## Quiz 🤷  \n",
    "\n",
    "Comparing the mean systolic blood pressure of the smokers (people who answered yes to `SmokeNow`) vs. non-smokers, we find that:\n",
    "\n",
    "<ol style=\"list-style-type: upper-alpha;\">\n",
    "    <li> Mean systolic bp among smokers is significantly <emph>higher</emph> than among nonsmokers.\n",
    "    <li> Mean systolic bp among smokers is significantly <emph>lower</emph> than among nonsmokers.\n",
    "    <li> Mean systolic bp among smokers is <b>in</b>significantly <emph>higher</emph> than among nonsmokers.\n",
    "    <li> Mean systolic bp among smokers is <b>in</b>significantly <emph>lower</emph> than among nonsmokers.\n",
    "</ol>\n",
    "\n",
    "\"Significant\" means statistically significant at the $\\alpha=0.05$ level."
   ]
  },
  {
   "cell_type": "code",
   "execution_count": null,
   "id": "e2e8ee88",
   "metadata": {},
   "outputs": [],
   "source": []
  },
  {
   "cell_type": "markdown",
   "id": "bdf3309d",
   "metadata": {
    "slideshow": {
     "slide_type": "notes"
    }
   },
   "source": [
    "- We get the (possibly) counter-intuitive result that blood pressure is lower in smokers. \n",
    "- What are possible explanations for this?\n",
    "\n",
    "There may be potential confounders! \n",
    "\n",
    "\n",
    "## 1. Age Confounding\n",
    "\n",
    "- Smokers may be younger than nonsmokers in population datasets like NHANES. (need to verify)\n",
    "- Blood pressure increases with age so younger age lowers the average SBP in smokers.\n",
    "\n",
    "## 2. BMI and Body Composition\n",
    "\n",
    "- Smokers may have lower body weight or BMI than nonsmokers.\n",
    "- Lower BMI is associated with lower blood pressure.\n",
    "  "
   ]
  },
  {
   "cell_type": "code",
   "execution_count": null,
   "id": "cb8bff30",
   "metadata": {},
   "outputs": [],
   "source": []
  },
  {
   "cell_type": "markdown",
   "id": "2222c2c4",
   "metadata": {
    "slideshow": {
     "slide_type": "slide"
    }
   },
   "source": [
    "Let's try looking at this through a different lens. The American Heart Association defines hypertension as systolic blood pressure > 130 mm Hg or diastolic bp > 80 mm Hg. Let's try logistic regression on hypertensive status."
   ]
  },
  {
   "cell_type": "code",
   "execution_count": null,
   "id": "12af3a60",
   "metadata": {},
   "outputs": [],
   "source": []
  },
  {
   "cell_type": "markdown",
   "id": "7c0e40b9",
   "metadata": {
    "slideshow": {
     "slide_type": "slide"
    }
   },
   "source": [
    "In fact there are four stages of hypertension:\n",
    "- **Normal Blood Pressure**\n",
    "  - Systolic: Less than 120 mm Hg\n",
    "  - Diastolic: Less than 80 mm Hg\n",
    "- **Elevated Blood Pressure**\n",
    "  - Systolic: 120-129 mm Hg\n",
    "  - Diastolic: Less than 80 mm Hg\n",
    "- **Hypertension Stage 1**\n",
    "  - Systolic: 130-139 mm Hg\n",
    "  - Diastolic: 80-89 mm Hg\n",
    "- **Hypertension Stage 2**\n",
    "  - Systolic: At least 140 mm Hg\n",
    "  - Diastolic: At least 90 mm Hg\n",
    "- **Hypertensive Crisis (Emergency situation)**\n",
    "  - Systolic: Over 180 mm Hg and/or\n",
    "  - Diastolic: Over 120 mm Hg"
   ]
  },
  {
   "cell_type": "code",
   "execution_count": null,
   "id": "245dcb9e",
   "metadata": {},
   "outputs": [],
   "source": []
  },
  {
   "cell_type": "markdown",
   "id": "cd855a78",
   "metadata": {
    "slideshow": {
     "slide_type": "slide"
    }
   },
   "source": [
    "## Effects at the tails\n",
    "Let's consider whether there is a measurable effect for stage 2 hypertension:"
   ]
  },
  {
   "cell_type": "code",
   "execution_count": null,
   "id": "f73bd083",
   "metadata": {},
   "outputs": [],
   "source": []
  },
  {
   "cell_type": "markdown",
   "id": "332b4080",
   "metadata": {
    "slideshow": {
     "slide_type": "slide"
    }
   },
   "source": [
    "## Ordinal logistic regression\n",
    "\n",
    "Ordinal Logistic Regression, also known as Ordered Logit Regression, is a statistical technique used for modeling the relationship between an ordinal dependent variable and one or more independent variables.\n",
    "\n",
    "- Ordinal dependent variable: A categorical variable with a clear ordering of the categories, but not necessarily a constant difference between categories.\n",
    "- Independent variables: Can be continuous, dichotomous, or categorical, and are used to predict the ordinal outcome.\n"
   ]
  },
  {
   "cell_type": "markdown",
   "id": "0a64056c",
   "metadata": {
    "slideshow": {
     "slide_type": "slide"
    }
   },
   "source": [
    "### OLR model\n",
    "$$\n",
    "\\log\\left(\\frac{P(Y \\leq j)}{P(Y > j)}\\right) = \\alpha_j - \\beta X, \\quad j = 1, 2, \\ldots, J-1\n",
    "$$\n",
    "\n",
    "where:\n",
    "\n",
    "- $Y$ is the ordinal dependent variable with $J$ ordered categories.\n",
    "- $P(Y \\leq j)$ is the cumulative probability of $Y$ being in category $j$ or lower.\n",
    "- $X$ represents the vector of independent variables (predictors).\n",
    "- $\\beta$ is the vector of coefficients associated with the predictors.\n",
    "- $\\alpha_j$ are the threshold parameters (cutpoints) for each $j$th category, with $j = 1, 2, \\ldots, J-1$."
   ]
  },
  {
   "cell_type": "markdown",
   "id": "90a41241",
   "metadata": {
    "slideshow": {
     "slide_type": "slide"
    }
   },
   "source": [
    "### Proportional odds assumption\n",
    "The model implies the following key assumption:\n",
    "$$\n",
    "\\frac{\\partial}{\\partial X}\\log\\left(\\frac{P(Y \\leq j)}{P(Y > j)}\\right) = -\\beta, \\quad \\text{for all } j\n",
    "$$\n",
    "\n",
    "This says that the odds ratios comparing any two outcome categories are assumed to be the same across all levels of the predictors."
   ]
  },
  {
   "cell_type": "code",
   "execution_count": 23,
   "id": "19a20021",
   "metadata": {
    "slideshow": {
     "slide_type": "slide"
    }
   },
   "outputs": [],
   "source": [
    "bp_df$BPStage <- factor(\n",
    "    bp_df$BPStage, ordered = TRUE, \n",
    "     levels = c(\"Normal\", \"Elevated\", \"Hypertension Stage 1\", \n",
    "                \"Hypertension Stage 2\", \"Hypertensive Crisis\")\n",
    "    )"
   ]
  },
  {
   "cell_type": "code",
   "execution_count": null,
   "id": "c9c16034",
   "metadata": {},
   "outputs": [],
   "source": []
  },
  {
   "cell_type": "markdown",
   "id": "7348eae6",
   "metadata": {
    "slideshow": {
     "slide_type": "slide"
    }
   },
   "source": [
    "### Interpretation\n",
    "\n",
    "Important to distinguish between the coefficients and the odds ratios:\n",
    "\n",
    "- **Coefficients**: Represent the log odds of being in a higher category of the outcome variable for a one-unit increase in the predictor.\n",
    "- **Odds Ratios**: Exponentiated coefficients, indicating how the odds of being in a higher category change with a one-unit increase in the predictor.\n",
    "\n",
    "Hence:\n",
    "\n",
    "- **Positive Coefficient (Odds Ratio > 1)**: Indicates an increase in the predictor is associated with higher odds of being in a higher category.\n",
    "- **Negative Coefficient (Odds Ratio < 1)**: Suggests an increase in the predictor is associated with lower odds of being in a higher category."
   ]
  },
  {
   "cell_type": "code",
   "execution_count": null,
   "id": "d36ebad2",
   "metadata": {},
   "outputs": [],
   "source": []
  },
  {
   "cell_type": "markdown",
   "id": "7c0d4dda",
   "metadata": {
    "slideshow": {
     "slide_type": "slide"
    }
   },
   "source": [
    "## TV watching and and body mass\n",
    "How does watching TV associate with body weight among individuals in the NHANES dataset? We'll study this in several ways:\n",
    "\n",
    "- **Descriptive Analysis**: Understand the distribution of TV and BMI.\n",
    "- **Correlation Analysis**: Examine the linear relationship between TV and BMI.\n",
    "- **Linear Regression**: Assess the impact of TV on BMI, controlling for confounders.\n",
    "- **Logistic Regression**: Evaluate the odds of being overweight or obese with increased TV watching.\n",
    "- **Mixed Models/GEE**: Account for clustering within the data.\n",
    "- **Non-Linear Models**: Explore potential non-linear relationships between TV and BMI."
   ]
  },
  {
   "cell_type": "markdown",
   "id": "650c4932",
   "metadata": {
    "slideshow": {
     "slide_type": "slide"
    }
   },
   "source": [
    "### Descriptive analysis\n",
    "We start by considering the distribution of BMI. The WHO defines BMI according to the following levels:\n",
    "- Underweight: BMI less than 18.5+\n",
    "- Normal weight: BMI 18.5 to 24.9\n",
    "- Overweight: BMI 25 to 29.9\n",
    "- Obesity: BMI 30 and above"
   ]
  },
  {
   "cell_type": "code",
   "execution_count": null,
   "id": "627b0ff3",
   "metadata": {},
   "outputs": [],
   "source": []
  },
  {
   "cell_type": "markdown",
   "id": "397ffc3b",
   "metadata": {
    "slideshow": {
     "slide_type": "slide"
    }
   },
   "source": [
    "## Regression analysis\n",
    "Next, let's model the effect of TV watching on BMI. We'll try two different ways:"
   ]
  },
  {
   "cell_type": "code",
   "execution_count": null,
   "id": "79508533",
   "metadata": {},
   "outputs": [],
   "source": []
  },
  {
   "cell_type": "markdown",
   "id": "492ea764",
   "metadata": {
    "slideshow": {
     "slide_type": "notes"
    }
   },
   "source": [
    "Next, let's try with the categorized `TVHrsDay` replaced by a continuous estimate:"
   ]
  },
  {
   "cell_type": "code",
   "execution_count": null,
   "id": "3e49a104",
   "metadata": {},
   "outputs": [],
   "source": []
  },
  {
   "cell_type": "markdown",
   "id": "cee8a087",
   "metadata": {
    "slideshow": {
     "slide_type": "slide"
    }
   },
   "source": [
    "### Effect on obesity\n",
    "Let's consider the effect on obesity (which is defined above as BMI > 30)."
   ]
  },
  {
   "cell_type": "markdown",
   "id": "a1f2f3dd",
   "metadata": {
    "slideshow": {
     "slide_type": "slide"
    }
   },
   "source": [
    "How can we use the logistic regression model to give a \"predicted probability of obesity\"?"
   ]
  },
  {
   "cell_type": "code",
   "execution_count": null,
   "id": "818d6fda",
   "metadata": {},
   "outputs": [],
   "source": []
  },
  {
   "cell_type": "markdown",
   "id": "f7b68f0c",
   "metadata": {
    "slideshow": {
     "slide_type": "slide"
    }
   },
   "source": [
    "### Non-linear model\n",
    "\n",
    "Generalized Additive Models (GAMs) extend linear models by allowing non-linear relationships between the independent variables and the dependent variable through the use of smooth functions.\n",
    "- A GAM can be expressed as $y = \\beta_0 + f_1(x_1) + f_2(x_2) + \\cdots + f_n(x_n) + \\epsilon$, where $y$ is the dependent variable, $\\beta_0$ is the intercept, $f_i$ are smooth functions for each predictor $x_i$, and $\\epsilon$ is the error term.\n",
    "- In our example, we'll suppose that \n",
    "\n",
    "$$\\text{BMI} = s(\\text{Age}) + \\text{other predictors},$$\n",
    "\n",
    "where $s()$ denotes a smoothing function applied to age."
   ]
  },
  {
   "cell_type": "code",
   "execution_count": null,
   "id": "234ea20e",
   "metadata": {},
   "outputs": [],
   "source": []
  }
 ],
 "metadata": {
  "celltoolbar": "Slideshow",
  "kernelspec": {
   "display_name": "R",
   "language": "R",
   "name": "ir"
  },
  "language_info": {
   "codemirror_mode": "r",
   "file_extension": ".r",
   "mimetype": "text/x-r-source",
   "name": "R",
   "pygments_lexer": "r",
   "version": "4.5.1"
  }
 },
 "nbformat": 4,
 "nbformat_minor": 5
}
