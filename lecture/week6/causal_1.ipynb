{
 "cells": [
  {
   "cell_type": "code",
   "execution_count": 35,
   "id": "6302783c",
   "metadata": {
    "slideshow": {
     "slide_type": "notes"
    }
   },
   "outputs": [],
   "source": [
    "library(tidyverse)\n",
    "library(nhanesA)\n",
    "options(repr.plot.width=10, repr.plot.height=6)\n",
    "theme_set(theme_classic())"
   ]
  },
  {
   "cell_type": "markdown",
   "id": "9d348d0d",
   "metadata": {
    "slideshow": {
     "slide_type": "slide"
    }
   },
   "source": [
    "# STATS 504\n",
    "## Week 6: Introduction to Causal inference Concepts"
   ]
  },
  {
   "cell_type": "markdown",
   "id": "59ebce2c",
   "metadata": {
    "slideshow": {
     "slide_type": "slide"
    }
   },
   "source": [
    "### Smoking and lung cancer: observational data"
   ]
  },
  {
   "cell_type": "code",
   "execution_count": 2,
   "id": "b55f7bc7",
   "metadata": {
    "slideshow": {
     "slide_type": "-"
    }
   },
   "outputs": [],
   "source": [
    " demo <- nhanes(\"DEMO_J\")\n",
    " mcq <- nhanes(\"MCQ_J\")\n",
    " smq <- nhanes(\"SMQ_J\")"
   ]
  },
  {
   "cell_type": "code",
   "execution_count": 18,
   "id": "b1382d66",
   "metadata": {
    "slideshow": {
     "slide_type": "slide"
    }
   },
   "outputs": [],
   "source": [
    "#nhanesCodebook(\"MCQ\", \"MCQ230A\")\n",
    "#mcq %>% select(MCQ230A) %>% print\n",
    "#table(mcq$MCQ230A)\n",
    "#table(mcq$MCQ230A)"
   ]
  },
  {
   "cell_type": "code",
   "execution_count": 19,
   "id": "c79123dc",
   "metadata": {
    "slideshow": {
     "slide_type": "slide"
    }
   },
   "outputs": [
    {
     "data": {
      "text/plain": [
       "\n",
       " Yes   No \n",
       "2359 3497 "
      ]
     },
     "metadata": {},
     "output_type": "display_data"
    }
   ],
   "source": [
    "#nhanesCodebook(\"SMQ\")\n",
    "#nhanesCodebook(\"SMQ\", \"SMQ020\")\n",
    "table(smq$SMQ020)"
   ]
  },
  {
   "cell_type": "code",
   "execution_count": 23,
   "id": "378d7d15",
   "metadata": {
    "slideshow": {
     "slide_type": "slide"
    }
   },
   "outputs": [
    {
     "name": "stderr",
     "output_type": "stream",
     "text": [
      "\u001b[1m\u001b[22mJoining with `by = join_by(SEQN)`\n"
     ]
    },
    {
     "data": {
      "text/plain": [
       "                             SMQ020\n",
       "MCQ230A                       Yes No\n",
       "  Bladder                       9  3\n",
       "  Blood                         0  1\n",
       "  Bone                          1  0\n",
       "  Brain                         2  2\n",
       "  Breast                       29 60\n",
       "  Cervix (cervical)            17  9\n",
       "  Colon                        22 24\n",
       "  Esophagus (esophageal)        6  0\n",
       "  Gallbladder                   1  0\n",
       "  Kidney                       11  8\n",
       "  Larynx/ windpipe              1  0\n",
       "  Leukemia                      1  5\n",
       "  Liver                         0  3\n",
       "  Lung                         17  1\n",
       "  Lymphoma/ Hodgkin's disease   8  7\n",
       "  Melanoma                     16 19\n",
       "  Mouth/tongue/lip              3  1\n",
       "  Ovary (ovarian)               3  8\n",
       "  Pancreas (pancreatic)         1  0\n",
       "  Prostate                     54 40\n",
       "  Rectum (rectal)               1  1\n",
       "  Skin (non-melanoma)          31 36\n",
       "  Skin (don't know what kind)  15 18\n",
       "  Soft tissue (muscle or fat)   1  0\n",
       "  Stomach                       4  1\n",
       "  Testis (testicular)           2  0\n",
       "  Thyroid                       7  8\n",
       "  Uterus (uterine)             10 10\n",
       "  Other                        20 17\n",
       "  Don't know                    8  5"
      ]
     },
     "metadata": {},
     "output_type": "display_data"
    }
   ],
   "source": [
    " #lung = mcq$MCQ230A == \"Lung\"   %>% filter(MCQ230A == \"Lung\") %>% left_join(smq) %>% xtabs(~ SMQ020, data = .)\n",
    "# smoke = smq$SMQ020\n",
    "\n",
    "mcq %>% left_join(smq) %>% xtabs(~ MCQ230A + SMQ020, data = .)"
   ]
  },
  {
   "cell_type": "code",
   "execution_count": 24,
   "id": "6e86047b",
   "metadata": {
    "slideshow": {
     "slide_type": "slide"
    }
   },
   "outputs": [
    {
     "name": "stderr",
     "output_type": "stream",
     "text": [
      "\u001b[1m\u001b[22mJoining with `by = join_by(SEQN)`\n"
     ]
    },
    {
     "data": {
      "text/plain": [
       "                    lung_cancer\n",
       "INDHHIN2             FALSE TRUE\n",
       "  $ 0 to $ 4,999      0.03 0.00\n",
       "  $ 5,000 to $ 9,999  0.03 0.00\n",
       "  $10,000 to $14,999  0.05 0.12\n",
       "  $15,000 to $19,999  0.06 0.12\n",
       "  $20,000 to $24,999  0.06 0.06\n",
       "  $25,000 to $34,999  0.11 0.29\n",
       "  $35,000 to $44,999  0.10 0.12\n",
       "  $45,000 to $54,999  0.07 0.06\n",
       "  $55,000 to $64,999  0.07 0.00\n",
       "  $65,000 to $74,999  0.05 0.06\n",
       "  $20,000 and Over    0.04 0.00\n",
       "  Under $20,000       0.01 0.12\n",
       "  $75,000 to $99,999  0.09 0.00\n",
       "  $100,000 and Over   0.19 0.06\n",
       "  Refused             0.02 0.00\n",
       "  Don't know          0.03 0.00"
      ]
     },
     "metadata": {},
     "output_type": "display_data"
    }
   ],
   "source": [
    "demo %>% left_join(mcq) %>% mutate(lung_cancer = MCQ230A == \"Lung\") %>% \n",
    "    replace_na(list(lung_cancer = F)) %>% \n",
    "    xtabs(~ INDHHIN2 + lung_cancer, data = .) %>% \n",
    "    prop.table(2) %>% \n",
    "    round(2)"
   ]
  },
  {
   "cell_type": "markdown",
   "id": "b34018b9",
   "metadata": {
    "slideshow": {
     "slide_type": "slide"
    }
   },
   "source": [
    "## Causal inference\n",
    "- $T_i$ is the \"treatment\" for person $i$, e.g. \"smokes\".\n",
    "- $Y_i$ is the \"outcome\" for person $i$, e.g. \"gets lung cancer\".\n",
    "- $X_i$ other covariates.\n",
    "- Potential outcomes:\n",
    "    - $Y_i(1)$ is the outcome for person $i$ if they were given the treatment.\n",
    "    - $Y_i(0)$ is the outcome for person $i$ if they were not given the treatment.\n",
    "- $Y_i = T_i Y_i(1) + (1 - T_i) Y_i(0).$"
   ]
  },
  {
   "cell_type": "markdown",
   "id": "49994026",
   "metadata": {
    "slideshow": {
     "slide_type": "slide"
    }
   },
   "source": [
    "## Average treatment effect\n",
    "- We'd like to be able to estimate the average treatment effect:\n",
    "\n",
    "$$\\text{ATE} = \\mathbb{E}[Y_i(1) - Y_i(0)]$$\n",
    "\n",
    "- \"How much on average does switching from smoker to nonsmoker raise your risk of getting lung cancer?\""
   ]
  },
  {
   "cell_type": "markdown",
   "id": "f33bd04d",
   "metadata": {
    "slideshow": {
     "slide_type": "slide"
    }
   },
   "source": [
    "## Fundamental problem of causal inference\n",
    "\n",
    "\n",
    "- **We only observe $Y_i(1)$ for people who got the treatment. We only observe $Y_i(0)$ for people who did not get the treatment.**\n",
    "\n",
    "- Thus, \n",
    "\n",
    "    $$\\frac{1}{n_\\text{smokers}} \\sum_{i \\in \\text{smokers}} Y_i$$ is in general *not* a consistent estimator of \n",
    "    $\\mathbb{E}Y_i(1)$.\n",
    "    \n",
    "- And similarly for $Y_i(0)$.\n",
    "- The issue here is that treatment is not randomly assigned.  You are only averaging over people who chose to smoke. \n",
    "- Those people might have systematically higher or lower response than the population average. \n",
    "- Unless treatment is randomly assigned (or you adjust for confounders properly), the average outcome for treated individuals doesn’t represent the average potential outcome under treatment for the whole population."
   ]
  },
  {
   "cell_type": "markdown",
   "id": "a7fcc293",
   "metadata": {
    "slideshow": {
     "slide_type": "slide"
    }
   },
   "source": [
    "## Cholera in 19th century England\n",
    "- Cholera first arrived to England in 1831."
   ]
  },
  {
   "cell_type": "markdown",
   "id": "d620fdc2",
   "metadata": {
    "slideshow": {
     "slide_type": "fragment"
    }
   },
   "source": [
    "- 31,000 people died of cholera between 1831-1832."
   ]
  },
  {
   "cell_type": "markdown",
   "id": "6261eb15",
   "metadata": {
    "slideshow": {
     "slide_type": "fragment"
    }
   },
   "source": [
    "- A second outbreak in 1848 killed 62,000."
   ]
  },
  {
   "cell_type": "markdown",
   "id": "1f653466",
   "metadata": {
    "slideshow": {
     "slide_type": "slide"
    }
   },
   "source": [
    "![father thames](https://scpoecon.github.io/ScPoEconometrics/images/father-thames.jpg)\n",
    "\n",
    "Source: Punch (1858), cited in https://scpoecon.github.io/ScPoEconometrics/IV.html."
   ]
  },
  {
   "cell_type": "markdown",
   "id": "43896986",
   "metadata": {
    "slideshow": {
     "slide_type": "slide"
    }
   },
   "source": [
    "![cholera charicature](https://www.sciencemuseum.org.uk/sites/default/files/styles/smg_carousel_zoom/public/2065329612.jpg)\n",
    "\n",
    "Source: https://www.sciencemuseum.org.uk/objects-and-stories/medicine/cholera-victorian-london"
   ]
  },
  {
   "cell_type": "markdown",
   "id": "1ec71ade",
   "metadata": {
    "slideshow": {
     "slide_type": "slide"
    }
   },
   "source": [
    "## What causes Cholera?\n",
    "\n",
    "- Germs had not yet been discovered, and were only one (unpopular) theory."
   ]
  },
  {
   "cell_type": "markdown",
   "id": "2ac1a7ad",
   "metadata": {
    "slideshow": {
     "slide_type": "fragment"
    }
   },
   "source": [
    "* Miasmas (poisonous particles floating in the air):\n",
    "    - Rapid industrialisation created filthy, unsanitary neighborhoods that tended to be the focal points of disease and epidemics.\n",
    "    - By improving sanitation and cleanliness, levels of disease were seen to fall, which seemed to support the miasma theory."
   ]
  },
  {
   "cell_type": "markdown",
   "id": "9c91c412",
   "metadata": {
    "slideshow": {
     "slide_type": "fragment"
    }
   },
   "source": [
    "- Other theories\n",
    "    * Imbalances in the humors of the body (black bile, yellow bile, blood, phlegm)\n",
    "    * Poison in the ground"
   ]
  },
  {
   "cell_type": "markdown",
   "id": "8a16110f",
   "metadata": {
    "cell_style": "split",
    "slideshow": {
     "slide_type": "slide"
    }
   },
   "source": [
    "## John Snow\n",
    "\n",
    "* John Snow was a physician in London who, by watching the course of the disease, came to believe believe that Cholera was caused by a living organism that is ingested (with water or food), multiplies within the body, and is expelled back into the environment.</li>\n",
    "\n",
    "* Snow developed arguments to support his theory, for example:\n",
    "  * Cholera spreads along trading routes\n",
    "  * When sailors went somewhere with Cholera, they wouldn't get sick if no one left the boat.\n",
    "\n",
    "* Nonetheless, there remained considerable skepticism."
   ]
  },
  {
   "cell_type": "markdown",
   "id": "64aa0f0e",
   "metadata": {
    "cell_style": "split",
    "slideshow": {
     "slide_type": "-"
    }
   },
   "source": [
    "<img src=\"https://upload.wikimedia.org/wikipedia/en/3/30/Jon_Snow_Season_8.png\" style=\"float: right\" width=300/>"
   ]
  },
  {
   "cell_type": "markdown",
   "id": "bd3b340a",
   "metadata": {
    "cell_style": "split",
    "slideshow": {
     "slide_type": "-"
    }
   },
   "source": [
    "<img src=\"https://upload.wikimedia.org/wikipedia/commons/thumb/c/cc/John_Snow.jpg/1200px-John_Snow.jpg\" style=\"float: right\" width=300/>"
   ]
  },
  {
   "cell_type": "markdown",
   "id": "12d4bb7f",
   "metadata": {
    "slideshow": {
     "slide_type": "slide"
    }
   },
   "source": [
    "## Epidemic of 1854"
   ]
  },
  {
   "cell_type": "markdown",
   "id": "d7a81d64",
   "metadata": {
    "slideshow": {
     "slide_type": "slide"
    }
   },
   "source": [
    "## Snow's methodology\n",
    "\n",
    "* Snow identified the first case in London: a man named John Harnold"
   ]
  },
  {
   "cell_type": "markdown",
   "id": "de6d371b",
   "metadata": {
    "slideshow": {
     "slide_type": "fragment"
    }
   },
   "source": [
    "* Snow also identified the second case: the man who took Harnold's room after Harnold died."
   ]
  },
  {
   "cell_type": "markdown",
   "id": "159914a5",
   "metadata": {
    "slideshow": {
     "slide_type": "fragment"
    }
   },
   "source": [
    "* John Harnold had newly arrived by the *Elbe* steamer from Hamburg, where there was an outbreak."
   ]
  },
  {
   "cell_type": "markdown",
   "id": "d1530665",
   "metadata": {
    "slideshow": {
     "slide_type": "fragment"
    }
   },
   "source": [
    "* Snow also found several adjacent apartment buildings, with one hit by cholera, one not.  He showed that in each case, the affected building had water contaminated by sewage, but the other building had relatively pure water."
   ]
  },
  {
   "cell_type": "markdown",
   "id": "3112ad7e",
   "metadata": {
    "slideshow": {
     "slide_type": "slide"
    }
   },
   "source": [
    "### Exceptions\n",
    "\n",
    "* There was a brewery near the pump, but none of the workers got sick -- it turned out the brewery had its own private pump on-site."
   ]
  },
  {
   "cell_type": "markdown",
   "id": "24d8a9f1",
   "metadata": {
    "slideshow": {
     "slide_type": "fragment"
    }
   },
   "source": [
    "* A woman in Hampstead got Cholera -- Snow discovered that she had water from the Broad Street pump delivered to her, because she liked the taste."
   ]
  },
  {
   "cell_type": "markdown",
   "id": "9b5b765e",
   "metadata": {
    "slideshow": {
     "slide_type": "slide"
    }
   },
   "source": [
    "According to legend, Snow lobbied the local council to remove the pump handle, at which time the epidemic receded."
   ]
  },
  {
   "cell_type": "markdown",
   "id": "0548ebbb",
   "metadata": {
    "slideshow": {
     "slide_type": "-"
    }
   },
   "source": [
    "![Removal of the Broad Street pump handle](https://scpoecon.github.io/ScPoEconometrics/ScPoEconometrics_files/figure-html/snow-TS-1.png)\n",
    "\n",
    "(Cited in: https://scpoecon.github.io/ScPoEconometrics/IV.html)"
   ]
  },
  {
   "cell_type": "markdown",
   "id": "0a2aa62f",
   "metadata": {
    "slideshow": {
     "slide_type": "slide"
    }
   },
   "source": [
    "![broad street pump](https://i0.wp.com/livinglondonhistory.com/wp-content/uploads/2022/07/Optimized-IMG_2622.jpg?w=800&ssl=1)\n",
    "\n",
    "(Source: https://livinglondonhistory.com/the-story-of-the-john-snow-pump-in-soho/)"
   ]
  },
  {
   "cell_type": "markdown",
   "id": "3342017c",
   "metadata": {
    "slideshow": {
     "slide_type": "slide"
    }
   },
   "source": [
    "## A natural experiment\n",
    "\n",
    "> Although the facts shown in the above table afford very strong evidence of the powerful influence which the drinking of water containing the sewage of a town exerts over the spread of cholera, when that disease is present, **yet the question does not end here**; for the intermixing of the water supply of the Southwark and Vauxhall Company with that of the Lambeth Company, over an extensive part of London, admitted of the subject being sifted in such a way as to yield the most incontrovertible proof on one side or the other.  In the subdistricts enumerated in the above table as being supplied by both Companies, the mixing of the supply is of the most intimate kind.  The pipes of each Company go down all the streets, and into nearly all the courts and alleys.  **A few houses are supplied by one Company and a few by the other**, according to the decision of the owner or occupier at that time when the Water Companies were in active competition.  In many cases a single house has a supply different from that on either side.  **Each company supplies both rich and poor, both large houses and small**; there is no difference either in the condition or occupation of the persons receiving the water of the different Companies."
   ]
  },
  {
   "cell_type": "markdown",
   "id": "72bd1ea5",
   "metadata": {
    "slideshow": {
     "slide_type": "slide"
    }
   },
   "source": [
    "![sno's map of water supply](https://scpoecon.github.io/ScPoEconometrics/images/snow-supply.jpg)\n",
    "\n",
    "\n",
    "(Cited in: https://scpoecon.github.io/ScPoEconometrics/IV.html)"
   ]
  },
  {
   "cell_type": "markdown",
   "id": "779d89d4",
   "metadata": {
    "slideshow": {
     "slide_type": "slide"
    }
   },
   "source": [
    "## Snow's reasoning"
   ]
  },
  {
   "cell_type": "markdown",
   "id": "8574fb26",
   "metadata": {
    "slideshow": {
     "slide_type": "fragment"
    }
   },
   "source": [
    "* There were several water companies in London, and their service areas overlapped."
   ]
  },
  {
   "cell_type": "markdown",
   "id": "3d6cb683",
   "metadata": {
    "slideshow": {
     "slide_type": "fragment"
    }
   },
   "source": [
    "* On a single street, some people would have one company, others another company."
   ]
  },
  {
   "cell_type": "markdown",
   "id": "38a0d692",
   "metadata": {
    "slideshow": {
     "slide_type": "fragment"
    }
   },
   "source": [
    "* The pipes had been laid many years before, when the water companies were still in active competition."
   ]
  },
  {
   "cell_type": "markdown",
   "id": "85ef3b20",
   "metadata": {
    "slideshow": {
     "slide_type": "fragment"
    }
   },
   "source": [
    "* In 1852, one of the companies (Lambeth) moved its intake pipe upstream to get purer water"
   ]
  },
  {
   "cell_type": "markdown",
   "id": "de2e5042",
   "metadata": {
    "slideshow": {
     "slide_type": "fragment"
    }
   },
   "source": [
    "* Snow compared the death rates between those who got water from Lambeth, and those who got water from Southwark and Vauxhall"
   ]
  },
  {
   "cell_type": "markdown",
   "id": "a75d1091",
   "metadata": {
    "slideshow": {
     "slide_type": "slide"
    }
   },
   "source": [
    "## Snow's data\n",
    "<div class=\"xtable\"><table frame=\"hsides\" rules=\"groups\" class=\"rendered small default_table\"><thead><tr><th rowspan=\"1\" colspan=\"1\">Water Supply Company</th><th rowspan=\"1\" colspan=\"1\">Number of Houses</th><th rowspan=\"1\" colspan=\"1\">Deaths From Cholera</th><th rowspan=\"1\" colspan=\"1\">Cholera Deaths per 10,000 Houses</th></tr></thead><tbody><tr><td rowspan=\"1\" colspan=\"1\">Southwark and Vauxhall</td><td rowspan=\"1\" colspan=\"1\">40,046</td><td rowspan=\"1\" colspan=\"1\">1,263</td><td rowspan=\"1\" colspan=\"1\">315</td></tr><tr><td rowspan=\"1\" colspan=\"1\">Lambeth</td><td rowspan=\"1\" colspan=\"1\">26,107</td><td rowspan=\"1\" colspan=\"1\">98</td><td rowspan=\"1\" colspan=\"1\">37</td></tr><tr><td rowspan=\"1\" colspan=\"1\">Rest of London</td><td rowspan=\"1\" colspan=\"1\">256,423</td><td rowspan=\"1\" colspan=\"1\">1,422</td><td rowspan=\"1\" colspan=\"1\">59</td></tr></tbody></table></div>"
   ]
  },
  {
   "cell_type": "code",
   "execution_count": 36,
   "id": "17ce1735",
   "metadata": {
    "slideshow": {
     "slide_type": "-"
    }
   },
   "outputs": [
    {
     "data": {
      "text/plain": [
       "                       Number of Houses Cholera Deaths\n",
       "Southwark and Vauxhall            40046           1263\n",
       "Lambeth                           26107             98\n",
       "Rest of London                   256423           1422"
      ]
     },
     "metadata": {},
     "output_type": "display_data"
    }
   ],
   "source": [
    "cholera_data <- matrix(\n",
    "  c(40046, 1263,\n",
    "    26107,   98,\n",
    "   256423, 1422),\n",
    "  nrow = 3,\n",
    "  byrow = TRUE\n",
    ")\n",
    "\n",
    "# Add row and column names\n",
    "rownames(cholera_data) <- c(\"Southwark and Vauxhall\", \"Lambeth\", \"Rest of London\")\n",
    "colnames(cholera_data) <- c(\"Number of Houses\", \"Cholera Deaths\")\n",
    "\n",
    "# Convert to a table\n",
    "cholera_table <- as.table(cholera_data)\n",
    "\n",
    "# Print the table\n",
    "cholera_table"
   ]
  },
  {
   "cell_type": "code",
   "execution_count": 38,
   "id": "b44c64b2",
   "metadata": {},
   "outputs": [
    {
     "data": {
      "text/html": [
       "<table class=\"dataframe\">\n",
       "<caption>A matrix: 3 × 2 of type dbl</caption>\n",
       "<thead>\n",
       "\t<tr><th></th><th scope=col>Cholera Deaths</th><th scope=col>No Death</th></tr>\n",
       "</thead>\n",
       "<tbody>\n",
       "\t<tr><th scope=row>Southwark and Vauxhall</th><td>1263</td><td> 38783</td></tr>\n",
       "\t<tr><th scope=row>Lambeth</th><td>  98</td><td> 26009</td></tr>\n",
       "\t<tr><th scope=row>Rest of London</th><td>1422</td><td>255001</td></tr>\n",
       "</tbody>\n",
       "</table>\n"
      ],
      "text/latex": [
       "A matrix: 3 × 2 of type dbl\n",
       "\\begin{tabular}{r|ll}\n",
       "  & Cholera Deaths & No Death\\\\\n",
       "\\hline\n",
       "\tSouthwark and Vauxhall & 1263 &  38783\\\\\n",
       "\tLambeth &   98 &  26009\\\\\n",
       "\tRest of London & 1422 & 255001\\\\\n",
       "\\end{tabular}\n"
      ],
      "text/markdown": [
       "\n",
       "A matrix: 3 × 2 of type dbl\n",
       "\n",
       "| <!--/--> | Cholera Deaths | No Death |\n",
       "|---|---|---|\n",
       "| Southwark and Vauxhall | 1263 |  38783 |\n",
       "| Lambeth |   98 |  26009 |\n",
       "| Rest of London | 1422 | 255001 |\n",
       "\n"
      ],
      "text/plain": [
       "                       Cholera Deaths No Death\n",
       "Southwark and Vauxhall 1263            38783  \n",
       "Lambeth                  98            26009  \n",
       "Rest of London         1422           255001  "
      ]
     },
     "metadata": {},
     "output_type": "display_data"
    },
    {
     "data": {
      "text/plain": [
       "\n",
       "\tPearson's Chi-squared test\n",
       "\n",
       "data:  contingency_table\n",
       "X-squared = 2815, df = 2, p-value < 2.2e-16\n"
      ]
     },
     "metadata": {},
     "output_type": "display_data"
    }
   ],
   "source": [
    "# Data\n",
    "water_company <- c(\"Southwark and Vauxhall\", \"Lambeth\", \"Rest of London\")\n",
    "houses <- c(40046, 26107, 256423)\n",
    "deaths <- c(1263, 98, 1422)\n",
    "survivors <- houses - deaths\n",
    "\n",
    "# Create 3x2 contingency table: rows = water companies, columns = [deaths, survivors]\n",
    "contingency_table <- matrix(\n",
    "  c(deaths, survivors),\n",
    "  nrow = 3,\n",
    "  byrow = FALSE\n",
    ")\n",
    "rownames(contingency_table) <- water_company\n",
    "colnames(contingency_table) <- c(\"Cholera Deaths\", \"No Death\")\n",
    "\n",
    "# View table\n",
    "contingency_table\n",
    "\n",
    "chisq.test(contingency_table)\n",
    "\n"
   ]
  },
  {
   "cell_type": "markdown",
   "id": "6fd9b3ee",
   "metadata": {
    "slideshow": {
     "slide_type": "slide"
    }
   },
   "source": [
    "## Snow's analysis in modern terms\n",
    "\n",
    "- $y_i=1$ if individual $i$ dies of cholera, 0 otherwise."
   ]
  },
  {
   "cell_type": "markdown",
   "id": "6d4199a1",
   "metadata": {
    "slideshow": {
     "slide_type": "fragment"
    }
   },
   "source": [
    "- $w_i=1$ if $i$'s water supply is impure, 0 otherewise."
   ]
  },
  {
   "cell_type": "markdown",
   "id": "a2b6f02a",
   "metadata": {
    "slideshow": {
     "slide_type": "fragment"
    }
   },
   "source": [
    "- Just compute $\\operatorname{cor}(y, w)$?"
   ]
  },
  {
   "cell_type": "markdown",
   "id": "acc53637",
   "metadata": {
    "slideshow": {
     "slide_type": "slide"
    }
   },
   "source": [
    "### As regression\n",
    "- Equivalently, fit the model: $y_i = \\alpha + \\beta w_i + u_i$\n",
    "    - $u_i$ are all the other unobservable factors that influence death (poverty, lifestyle, competing hypotheses like miasma, etc.)\n",
    "    - $\\beta$ is the increase in mortality if $w_i:0\\to 1$.\n",
    "- What could go wrong?\n",
    "\n",
    "- Example: If poorer neighborhoods are more likely to be served by a specific water company with contaminated water, then mortality may be higher even if water isn't the true cause — confounding the estimate of the regression coefficient $\\beta$. "
   ]
  },
  {
   "cell_type": "markdown",
   "id": "7d500a0d",
   "metadata": {
    "slideshow": {
     "slide_type": "slide"
    }
   },
   "source": [
    "$$\\mathbb{E}(y_i \\mid w_i=1) - \\mathbb{E}(y_i \\mid w_i=0) = ?$$"
   ]
  },
  {
   "cell_type": "markdown",
   "id": "9c06de1d",
   "metadata": {
    "slideshow": {
     "slide_type": "slide"
    }
   },
   "source": [
    "### Second attempt\n",
    "\n",
    "- Let $z_i=1$ if the person drank water from Southwark/Vauxhall and $z_i=0$ if they drank water from Lambeth.\n",
    "- Now take expectation with respect to $z_i=1/0$.\n",
    "\n",
    "$$\\mathbb{E}(y_i \\mid z_i=1) - \\mathbb{E}(y_i \\mid z_i=0) = ?$$"
   ]
  },
  {
   "cell_type": "markdown",
   "id": "c2d88ce0",
   "metadata": {
    "slideshow": {
     "slide_type": "slide"
    }
   },
   "source": [
    "### Assumptions\n",
    "\n",
    "What assumptions did we make (implicitily or explicitly) when deriving this estimator? \n",
    "\n",
    "- $\\mathbb{E}(w_i \\mid z_i=1) \\neq \\mathbb{E}(w_i \\mid z_i=0)$\n",
    "- $\\mathbb{E}(u_i \\mid z_i=1) = \\mathbb{E}(u_i \\mid z_i=0)$\n",
    "- Water company only affects mortality through water purity.\n",
    "\n",
    "Concretely, what do these assumptions mean for the data that Snow analyzed?"
   ]
  },
  {
   "cell_type": "markdown",
   "id": "d729daea",
   "metadata": {
    "slideshow": {
     "slide_type": "slide"
    }
   },
   "source": [
    "## Yule on pauperism\n",
    "\n",
    "- Poverty rates in England increased dramatically during the Victorian era."
   ]
  },
  {
   "cell_type": "markdown",
   "id": "249181f2",
   "metadata": {
    "slideshow": {
     "slide_type": "fragment"
    }
   },
   "source": [
    "- Emerging industrial economy lowered wages, increased population growth, and decreased the prospects for stable employment."
   ]
  },
  {
   "cell_type": "markdown",
   "id": "a0cf748a",
   "metadata": {
    "slideshow": {
     "slide_type": "slide"
    }
   },
   "source": [
    "### Victorian poor houses\n",
    "\n",
    "- Poor people/\"paupers\" in England were supported either:\n",
    "    - Inside “poor-houses”;\n",
    "    - Outside poor-houses, according to local policy.\n",
    "- Poor people were housed in institutions known as poor-houses. They lived there full-time and were provided with food, shelter, and work.\n"
   ]
  },
  {
   "cell_type": "markdown",
   "id": "e8b54d13",
   "metadata": {
    "slideshow": {
     "slide_type": "fragment"
    }
   },
   "source": [
    "- There was a debate about whether poor houses increased or decreased pauperism."
   ]
  },
  {
   "cell_type": "markdown",
   "id": "805aa76a",
   "metadata": {
    "slideshow": {
     "slide_type": "fragment"
    }
   },
   "source": [
    "- Yule studied how these policies affected rates of pauperism."
   ]
  },
  {
   "cell_type": "code",
   "execution_count": 47,
   "id": "849f9f46",
   "metadata": {
    "slideshow": {
     "slide_type": "slide"
    }
   },
   "outputs": [
    {
     "data": {
      "text/plain": [
       "\n",
       "Call:\n",
       "lm(formula = paup ~ outrelief + old + pop, data = yule)\n",
       "\n",
       "Residuals:\n",
       "    Min      1Q  Median      3Q     Max \n",
       "-17.475  -5.311  -1.829   3.132  25.335 \n",
       "\n",
       "Coefficients:\n",
       "            Estimate Std. Error t value Pr(>|t|)    \n",
       "(Intercept) 63.18774   27.14388   2.328   0.0274 *  \n",
       "outrelief    0.75209    0.13499   5.572 5.83e-06 ***\n",
       "old          0.05560    0.22336   0.249   0.8052    \n",
       "pop         -0.31074    0.06685  -4.648 7.25e-05 ***\n",
       "---\n",
       "Signif. codes:  0 ‘***’ 0.001 ‘**’ 0.01 ‘*’ 0.05 ‘.’ 0.1 ‘ ’ 1\n",
       "\n",
       "Residual standard error: 9.547 on 28 degrees of freedom\n",
       "Multiple R-squared:  0.6972,\tAdjusted R-squared:  0.6647 \n",
       "F-statistic: 21.49 on 3 and 28 DF,  p-value: 2.001e-07\n"
      ]
     },
     "metadata": {},
     "output_type": "display_data"
    }
   ],
   "source": [
    "# yule's regression"
   ]
  },
  {
   "cell_type": "markdown",
   "id": "8e9c055c",
   "metadata": {
    "slideshow": {
     "slide_type": "slide"
    }
   },
   "source": [
    "## Discussion 🙋‍♀️\n",
    "- Does Yule establish causation or association?\n",
    "- What sort of factors could confound the causal interpretation?\n",
    "- Can you think of a way to measure the *causal* effect?"
   ]
  },
  {
   "cell_type": "markdown",
   "id": "c3b2f7b4",
   "metadata": {
    "slideshow": {
     "slide_type": "notes"
    }
   },
   "source": [
    "### Yule establishes an association, not causation.\n",
    "\n",
    "- This study is an observational data, not experimental data.\n",
    "- There are potential unobserved confounding variables. \n",
    "- There is no random assignment of poor relief policies to districts, may have selection bias.  \n",
    "\n",
    "- Potential confounders may include \n",
    "    - Local economic conditions:  Areas with worse poverty may both adopt outrelief and have higher pauperism.\n",
    "    - Cultural or political attitudes: Places more sympathetic to the poor might both offer more outrelief and define pauperism differently.\n",
    "    - Implementation quality: The effectiveness of relief programs  could vary and affect outcomes.\n",
    "    - Migration patterns: Areas with generous outrelief might attract poor individuals from elsewhere, inflating local pauperism rates.\n",
    "\n",
    "- Ponential Approaches:\n",
    "    - Compare pauperism in areas before and after a change in outrelief policy, relative to areas that didn’t change.\n",
    "    - Match regions with similar observable characteristics but different outrelief policies to reduce confounding.\n",
    "    - In theory, randomly assigning outrelief can give accurate causal estimate, but not possible in practice back then.\n"
   ]
  },
  {
   "cell_type": "markdown",
   "id": "02ec964e",
   "metadata": {
    "slideshow": {
     "slide_type": "notes"
    }
   },
   "source": [
    "These next example follows Chapter 2 of the book \"[Causal Inference in R](https://www.r-causal.org/chapters/02-whole-game)\"."
   ]
  },
  {
   "cell_type": "markdown",
   "id": "0ba0a19a",
   "metadata": {
    "slideshow": {
     "slide_type": "slide"
    }
   },
   "source": [
    "## Example: effect of mosquito nets on preventing malaria\n",
    "\n",
    "- Malaria is a life-threatening disease caused by parasites transmitted to people through the bites of infected female Anopheles gambiae mosquitoes.\n",
    "- [WHO stats](https://www.who.int/news-room/fact-sheets/detail/malaria): annually,\n",
    "    - 200-300 million infections worldwide.\n",
    "    - ~600,000 deaths, with children <5 and pregnant women most vulnerable.\n",
    "- Predominantly found in sub-Saharan Africa, also south Asia, Middle East, parts of South America.\n",
    "- Nearly half of all malaria deaths occurred in just six countries: Nigeria (27%), the Democratic Republic of the Congo (12%), Uganda (5%), Mozambique (4%), Angola (3%), and Burkina Faso (3%)."
   ]
  },
  {
   "cell_type": "markdown",
   "id": "8aa6dbdc",
   "metadata": {
    "slideshow": {
     "slide_type": "slide"
    }
   },
   "source": [
    "## Insecticide-Treated Mosquito Nets (ITNs)\n",
    "- Cheap and highly effective prevention method.\n",
    "- ITNs have been shown to significantly reduce child mortality from all causes by 17% compared to no nets\n",
    "- Cut the incidence of uncomplicated episodes of Plasmodium falciparum malaria by nearly 50%.\n",
    "- [Source](https://www.cochrane.org/CD000363/INFECTN_insecticide-treated-nets-preventing-malaria)"
   ]
  },
  {
   "cell_type": "markdown",
   "id": "d941aeb5",
   "metadata": {
    "slideshow": {
     "slide_type": "slide"
    }
   },
   "source": [
    "## Causal question\n",
    "- \"Does using a bed net reduce the risk of malaria?\""
   ]
  },
  {
   "cell_type": "markdown",
   "id": "36b1dca7",
   "metadata": {
    "slideshow": {
     "slide_type": "notes"
    }
   },
   "source": [
    "- What do we mean by bed net?\n",
    "- How do we define risk?\n",
    "   - Baseline risk level?\n",
    "   - Death, or just sickness?\n",
    "   - Risk to whom?"
   ]
  },
  {
   "cell_type": "markdown",
   "id": "59b5aaa5",
   "metadata": {
    "slideshow": {
     "slide_type": "slide"
    }
   },
   "source": [
    "> Does using an ITN compared to no net decrease the risk of contracting malaria after one year?"
   ]
  },
  {
   "cell_type": "code",
   "execution_count": 39,
   "id": "2024f88f",
   "metadata": {},
   "outputs": [],
   "source": [
    "# library(causalworkshop)\n",
    "load(\"net_data.RData\")"
   ]
  },
  {
   "cell_type": "code",
   "execution_count": 40,
   "id": "ca2cc00b",
   "metadata": {
    "slideshow": {
     "slide_type": "slide"
    }
   },
   "outputs": [
    {
     "data": {
      "text/html": [
       "<table class=\"dataframe\">\n",
       "<caption>A tibble: 6 × 10</caption>\n",
       "<thead>\n",
       "\t<tr><th scope=col>id</th><th scope=col>net</th><th scope=col>net_num</th><th scope=col>malaria_risk</th><th scope=col>income</th><th scope=col>health</th><th scope=col>household</th><th scope=col>eligible</th><th scope=col>temperature</th><th scope=col>insecticide_resistance</th></tr>\n",
       "\t<tr><th scope=col>&lt;int&gt;</th><th scope=col>&lt;lgl&gt;</th><th scope=col>&lt;int&gt;</th><th scope=col>&lt;dbl&gt;</th><th scope=col>&lt;dbl&gt;</th><th scope=col>&lt;dbl&gt;</th><th scope=col>&lt;dbl&gt;</th><th scope=col>&lt;lgl&gt;</th><th scope=col>&lt;dbl&gt;</th><th scope=col>&lt;dbl&gt;</th></tr>\n",
       "</thead>\n",
       "<tbody>\n",
       "\t<tr><td>1</td><td>FALSE</td><td>0</td><td>38</td><td> 779</td><td>35</td><td>1</td><td>FALSE</td><td>18.3</td><td>38</td></tr>\n",
       "\t<tr><td>2</td><td>FALSE</td><td>0</td><td>48</td><td> 700</td><td>35</td><td>3</td><td>FALSE</td><td>18.6</td><td>40</td></tr>\n",
       "\t<tr><td>3</td><td>FALSE</td><td>0</td><td>32</td><td>1083</td><td>58</td><td>3</td><td>FALSE</td><td>24.2</td><td>70</td></tr>\n",
       "\t<tr><td>4</td><td>FALSE</td><td>0</td><td>55</td><td> 753</td><td>68</td><td>3</td><td>FALSE</td><td>19.1</td><td>57</td></tr>\n",
       "\t<tr><td>5</td><td>FALSE</td><td>0</td><td>36</td><td> 919</td><td>46</td><td>5</td><td>FALSE</td><td>21.2</td><td>59</td></tr>\n",
       "\t<tr><td>6</td><td>FALSE</td><td>0</td><td>30</td><td> 969</td><td>37</td><td>3</td><td>FALSE</td><td>20.2</td><td>49</td></tr>\n",
       "</tbody>\n",
       "</table>\n"
      ],
      "text/latex": [
       "A tibble: 6 × 10\n",
       "\\begin{tabular}{llllllllll}\n",
       " id & net & net\\_num & malaria\\_risk & income & health & household & eligible & temperature & insecticide\\_resistance\\\\\n",
       " <int> & <lgl> & <int> & <dbl> & <dbl> & <dbl> & <dbl> & <lgl> & <dbl> & <dbl>\\\\\n",
       "\\hline\n",
       "\t 1 & FALSE & 0 & 38 &  779 & 35 & 1 & FALSE & 18.3 & 38\\\\\n",
       "\t 2 & FALSE & 0 & 48 &  700 & 35 & 3 & FALSE & 18.6 & 40\\\\\n",
       "\t 3 & FALSE & 0 & 32 & 1083 & 58 & 3 & FALSE & 24.2 & 70\\\\\n",
       "\t 4 & FALSE & 0 & 55 &  753 & 68 & 3 & FALSE & 19.1 & 57\\\\\n",
       "\t 5 & FALSE & 0 & 36 &  919 & 46 & 5 & FALSE & 21.2 & 59\\\\\n",
       "\t 6 & FALSE & 0 & 30 &  969 & 37 & 3 & FALSE & 20.2 & 49\\\\\n",
       "\\end{tabular}\n"
      ],
      "text/markdown": [
       "\n",
       "A tibble: 6 × 10\n",
       "\n",
       "| id &lt;int&gt; | net &lt;lgl&gt; | net_num &lt;int&gt; | malaria_risk &lt;dbl&gt; | income &lt;dbl&gt; | health &lt;dbl&gt; | household &lt;dbl&gt; | eligible &lt;lgl&gt; | temperature &lt;dbl&gt; | insecticide_resistance &lt;dbl&gt; |\n",
       "|---|---|---|---|---|---|---|---|---|---|\n",
       "| 1 | FALSE | 0 | 38 |  779 | 35 | 1 | FALSE | 18.3 | 38 |\n",
       "| 2 | FALSE | 0 | 48 |  700 | 35 | 3 | FALSE | 18.6 | 40 |\n",
       "| 3 | FALSE | 0 | 32 | 1083 | 58 | 3 | FALSE | 24.2 | 70 |\n",
       "| 4 | FALSE | 0 | 55 |  753 | 68 | 3 | FALSE | 19.1 | 57 |\n",
       "| 5 | FALSE | 0 | 36 |  919 | 46 | 5 | FALSE | 21.2 | 59 |\n",
       "| 6 | FALSE | 0 | 30 |  969 | 37 | 3 | FALSE | 20.2 | 49 |\n",
       "\n"
      ],
      "text/plain": [
       "  id net   net_num malaria_risk income health household eligible temperature\n",
       "1 1  FALSE 0       38            779   35     1         FALSE    18.3       \n",
       "2 2  FALSE 0       48            700   35     3         FALSE    18.6       \n",
       "3 3  FALSE 0       32           1083   58     3         FALSE    24.2       \n",
       "4 4  FALSE 0       55            753   68     3         FALSE    19.1       \n",
       "5 5  FALSE 0       36            919   46     5         FALSE    21.2       \n",
       "6 6  FALSE 0       30            969   37     3         FALSE    20.2       \n",
       "  insecticide_resistance\n",
       "1 38                    \n",
       "2 40                    \n",
       "3 70                    \n",
       "4 57                    \n",
       "5 59                    \n",
       "6 49                    "
      ]
     },
     "metadata": {},
     "output_type": "display_data"
    }
   ],
   "source": [
    "net_data %>% head"
   ]
  },
  {
   "cell_type": "markdown",
   "id": "2c49d065",
   "metadata": {
    "slideshow": {
     "slide_type": "slide"
    }
   },
   "source": [
    "## About the data\n",
    "- net: participant used a net (1) or didn’t use a net (0)\n",
    "- malaria_risk: risk of malaria scale, 0-100\n",
    "- income: weekly income, USD\n",
    "- health: health score, 0–100\n",
    "- household: number of people living in the household\n",
    "- eligible: 1 if eligible for the free net program.\n",
    "- temperature: the average temperature at night, in Celsius\n",
    "- resistance: Insecticide resistance of local mosquitoes, scale 0-100, higher=more resistance."
   ]
  },
  {
   "cell_type": "code",
   "execution_count": 41,
   "id": "5c2913a1",
   "metadata": {
    "slideshow": {
     "slide_type": "slide"
    }
   },
   "outputs": [
    {
     "data": {
      "image/png": "[encoded data removed]",
      "text/plain": [
       "plot without title"
      ]
     },
     "metadata": {
      "image/png": {
       "height": 360,
       "width": 600
      }
     },
     "output_type": "display_data"
    }
   ],
   "source": [
    "net_data %>% \n",
    "  ggplot(aes(malaria_risk, fill = net)) +\n",
    "  geom_density(color = NA, alpha = .8)"
   ]
  },
  {
   "cell_type": "code",
   "execution_count": 42,
   "id": "684a9334",
   "metadata": {
    "slideshow": {
     "slide_type": "slide"
    }
   },
   "outputs": [
    {
     "data": {
      "text/html": [
       "<table class=\"dataframe\">\n",
       "<caption>A tibble: 2 × 2</caption>\n",
       "<thead>\n",
       "\t<tr><th scope=col>net</th><th scope=col>malaria_risk</th></tr>\n",
       "\t<tr><th scope=col>&lt;lgl&gt;</th><th scope=col>&lt;dbl&gt;</th></tr>\n",
       "</thead>\n",
       "<tbody>\n",
       "\t<tr><td>FALSE</td><td>43.91371</td></tr>\n",
       "\t<tr><td> TRUE</td><td>27.52863</td></tr>\n",
       "</tbody>\n",
       "</table>\n"
      ],
      "text/latex": [
       "A tibble: 2 × 2\n",
       "\\begin{tabular}{ll}\n",
       " net & malaria\\_risk\\\\\n",
       " <lgl> & <dbl>\\\\\n",
       "\\hline\n",
       "\t FALSE & 43.91371\\\\\n",
       "\t  TRUE & 27.52863\\\\\n",
       "\\end{tabular}\n"
      ],
      "text/markdown": [
       "\n",
       "A tibble: 2 × 2\n",
       "\n",
       "| net &lt;lgl&gt; | malaria_risk &lt;dbl&gt; |\n",
       "|---|---|\n",
       "| FALSE | 43.91371 |\n",
       "|  TRUE | 27.52863 |\n",
       "\n"
      ],
      "text/plain": [
       "  net   malaria_risk\n",
       "1 FALSE 43.91371    \n",
       "2  TRUE 27.52863    "
      ]
     },
     "metadata": {},
     "output_type": "display_data"
    }
   ],
   "source": [
    "net_data %>% \n",
    "  group_by(net) |>\n",
    "  summarize(malaria_risk = mean(malaria_risk))"
   ]
  },
  {
   "cell_type": "code",
   "execution_count": 43,
   "id": "566cd286",
   "metadata": {
    "slideshow": {
     "slide_type": "slide"
    }
   },
   "outputs": [
    {
     "data": {
      "text/plain": [
       "\n",
       "Call:\n",
       "lm(formula = malaria_risk ~ net, data = net_data)\n",
       "\n",
       "Residuals:\n",
       "    Min      1Q  Median      3Q     Max \n",
       "-26.914 -10.529  -1.914   8.471  46.086 \n",
       "\n",
       "Coefficients:\n",
       "            Estimate Std. Error t value Pr(>|t|)    \n",
       "(Intercept)  43.9137     0.3773   116.4   <2e-16 ***\n",
       "netTRUE     -16.3851     0.7413   -22.1   <2e-16 ***\n",
       "---\n",
       "Signif. codes:  0 ‘***’ 0.001 ‘**’ 0.01 ‘*’ 0.05 ‘.’ 0.1 ‘ ’ 1\n",
       "\n",
       "Residual standard error: 13.59 on 1750 degrees of freedom\n",
       "Multiple R-squared:  0.2183,\tAdjusted R-squared:  0.2178 \n",
       "F-statistic: 488.6 on 1 and 1750 DF,  p-value: < 2.2e-16\n"
      ]
     },
     "metadata": {},
     "output_type": "display_data"
    }
   ],
   "source": [
    "# Naive regression\n",
    "lm(malaria_risk ~ net, data = net_data) %>% summary"
   ]
  },
  {
   "cell_type": "markdown",
   "id": "4b0d15c5",
   "metadata": {
    "slideshow": {
     "slide_type": "slide"
    }
   },
   "source": [
    "## Causal diagram\n",
    "Next, we're going to draw a \"causal diagram\" depicting the relationships between the variables in our data.\n",
    "- Nodes represent variables\n",
    "- An edge from node $A$ to node $B$ means that $A$ affects $B$."
   ]
  },
  {
   "cell_type": "markdown",
   "id": "3311f6be",
   "metadata": {
    "slideshow": {
     "slide_type": "slide"
    }
   },
   "source": [
    "![causal diagram](https://www.r-causal.org/chapters/02-whole-game_files/figure-html/fig-net-data-dag-1.png)"
   ]
  },
  {
   "cell_type": "markdown",
   "id": "df6b3e85",
   "metadata": {
    "slideshow": {
     "slide_type": "slide"
    }
   },
   "source": [
    "What is this graph telling us?\n",
    "- Risk of malaria is affective by: health, income, using a net, temperature, and resistance to insecticide.\n",
    "- Net usage is affected by: income, health, eligibility, temperature, and househould size.\n",
    "- Health is impacted by: income \n",
    "- Eligibility is affected by: income and number of people in household."
   ]
  },
  {
   "cell_type": "markdown",
   "id": "b27ccea6",
   "metadata": {
    "slideshow": {
     "slide_type": "slide"
    }
   },
   "source": [
    "## Confounding in the graph\n",
    "- We want to measure the causal impact of mosquito net usage on risk of malaria.\n",
    "- The trouble is that there are several pathways between these two nodes.\n",
    "- For example: \n",
    "\n",
    "        Net usage <- Eligibility <- Income -> Risk\n",
    "        Net usage <- Health -> Risk\n",
    "- So, naively estimating the effect of net usage on risk will pick up a mixture of all of these effects."
   ]
  },
  {
   "cell_type": "markdown",
   "id": "340586b4",
   "metadata": {
    "slideshow": {
     "slide_type": "slide"
    }
   },
   "source": [
    "Recall the average treatement effect:\n",
    "\n",
    "$$\\text{ATE} = \\mathbb{E}_x[Y_1(x) - Y_0(x)]$$\n",
    "\n",
    "- $Y_0(x)$, $Y_1(x)$ are the potential outcomes for person $x$\n",
    "- The average is over randomly sample people from the population.\n",
    "- The regression above suggested $\\text{ATE} \\approx -16.4$, is this correct?"
   ]
  },
  {
   "cell_type": "markdown",
   "id": "efc7b19d",
   "metadata": {
    "slideshow": {
     "slide_type": "slide"
    }
   },
   "source": [
    "## Propensity score matching\n",
    "\n",
    "- Idea is to reweight my observations so that e.g.\n",
    "\n",
    "$$\\mathbb{E}_{x \\sim p(x)} Y_1(x) \\approx \\mathbb{E}_{x \\sim p(x \\mid T=1)} [w(x) Y(x)] $$\n",
    "\n",
    "- How should we do this? Use $$w(x) = \\frac{\\mathbb{P}(T=1)}{\\mathbb{P}(T=1 \\mid x)}.$$\n",
    "\n",
    "- Do we know $\\mathbb{P}(T=1)$?\n",
    "- Do we know $\\mathbb{P}(T=1 \\mid x)$?"
   ]
  },
  {
   "cell_type": "code",
   "execution_count": 44,
   "id": "8868ded3",
   "metadata": {
    "slideshow": {
     "slide_type": "slide"
    }
   },
   "outputs": [],
   "source": [
    "propensity_model <- glm(\n",
    "    net ~ income + health + temperature + household,\n",
    "    data = net_data,\n",
    "    family = \"binomial\"\n",
    ")"
   ]
  },
  {
   "cell_type": "code",
   "execution_count": 46,
   "id": "a3460a6c",
   "metadata": {
    "slideshow": {
     "slide_type": "slide"
    }
   },
   "outputs": [
    {
     "data": {
      "text/html": [
       "<table class=\"dataframe\">\n",
       "<caption>A tibble: 6 × 12</caption>\n",
       "<thead>\n",
       "\t<tr><th scope=col>id</th><th scope=col>net</th><th scope=col>net_num</th><th scope=col>malaria_risk</th><th scope=col>income</th><th scope=col>health</th><th scope=col>household</th><th scope=col>eligible</th><th scope=col>temperature</th><th scope=col>insecticide_resistance</th><th scope=col>pred</th><th scope=col>wt</th></tr>\n",
       "\t<tr><th scope=col>&lt;int&gt;</th><th scope=col>&lt;lgl&gt;</th><th scope=col>&lt;int&gt;</th><th scope=col>&lt;dbl&gt;</th><th scope=col>&lt;dbl&gt;</th><th scope=col>&lt;dbl&gt;</th><th scope=col>&lt;dbl&gt;</th><th scope=col>&lt;lgl&gt;</th><th scope=col>&lt;dbl&gt;</th><th scope=col>&lt;dbl&gt;</th><th scope=col>&lt;dbl&gt;</th><th scope=col>&lt;dbl&gt;</th></tr>\n",
       "</thead>\n",
       "<tbody>\n",
       "\t<tr><td> 30</td><td>TRUE</td><td>1</td><td>34</td><td>798</td><td>36</td><td>1</td><td>FALSE</td><td>23.6</td><td>56</td><td>0.1948600</td><td>5.131890</td></tr>\n",
       "\t<tr><td> 59</td><td>TRUE</td><td>1</td><td>35</td><td>676</td><td> 8</td><td>2</td><td>FALSE</td><td>23.2</td><td>41</td><td>0.1764922</td><td>5.665974</td></tr>\n",
       "\t<tr><td> 72</td><td>TRUE</td><td>1</td><td>51</td><td>693</td><td>43</td><td>5</td><td> TRUE</td><td>26.8</td><td>58</td><td>0.1974707</td><td>5.064044</td></tr>\n",
       "\t<tr><td>123</td><td>TRUE</td><td>1</td><td>38</td><td>463</td><td>11</td><td>7</td><td> TRUE</td><td>19.9</td><td>44</td><td>0.1925607</td><td>5.193166</td></tr>\n",
       "\t<tr><td>127</td><td>TRUE</td><td>1</td><td>52</td><td>633</td><td>15</td><td>2</td><td>FALSE</td><td>26.3</td><td>62</td><td>0.1506360</td><td>6.638520</td></tr>\n",
       "\t<tr><td>139</td><td>TRUE</td><td>1</td><td>36</td><td>818</td><td>57</td><td>3</td><td>FALSE</td><td>29.4</td><td>31</td><td>0.1946319</td><td>5.137903</td></tr>\n",
       "</tbody>\n",
       "</table>\n"
      ],
      "text/latex": [
       "A tibble: 6 × 12\n",
       "\\begin{tabular}{llllllllllll}\n",
       " id & net & net\\_num & malaria\\_risk & income & health & household & eligible & temperature & insecticide\\_resistance & pred & wt\\\\\n",
       " <int> & <lgl> & <int> & <dbl> & <dbl> & <dbl> & <dbl> & <lgl> & <dbl> & <dbl> & <dbl> & <dbl>\\\\\n",
       "\\hline\n",
       "\t  30 & TRUE & 1 & 34 & 798 & 36 & 1 & FALSE & 23.6 & 56 & 0.1948600 & 5.131890\\\\\n",
       "\t  59 & TRUE & 1 & 35 & 676 &  8 & 2 & FALSE & 23.2 & 41 & 0.1764922 & 5.665974\\\\\n",
       "\t  72 & TRUE & 1 & 51 & 693 & 43 & 5 &  TRUE & 26.8 & 58 & 0.1974707 & 5.064044\\\\\n",
       "\t 123 & TRUE & 1 & 38 & 463 & 11 & 7 &  TRUE & 19.9 & 44 & 0.1925607 & 5.193166\\\\\n",
       "\t 127 & TRUE & 1 & 52 & 633 & 15 & 2 & FALSE & 26.3 & 62 & 0.1506360 & 6.638520\\\\\n",
       "\t 139 & TRUE & 1 & 36 & 818 & 57 & 3 & FALSE & 29.4 & 31 & 0.1946319 & 5.137903\\\\\n",
       "\\end{tabular}\n"
      ],
      "text/markdown": [
       "\n",
       "A tibble: 6 × 12\n",
       "\n",
       "| id &lt;int&gt; | net &lt;lgl&gt; | net_num &lt;int&gt; | malaria_risk &lt;dbl&gt; | income &lt;dbl&gt; | health &lt;dbl&gt; | household &lt;dbl&gt; | eligible &lt;lgl&gt; | temperature &lt;dbl&gt; | insecticide_resistance &lt;dbl&gt; | pred &lt;dbl&gt; | wt &lt;dbl&gt; |\n",
       "|---|---|---|---|---|---|---|---|---|---|---|---|\n",
       "|  30 | TRUE | 1 | 34 | 798 | 36 | 1 | FALSE | 23.6 | 56 | 0.1948600 | 5.131890 |\n",
       "|  59 | TRUE | 1 | 35 | 676 |  8 | 2 | FALSE | 23.2 | 41 | 0.1764922 | 5.665974 |\n",
       "|  72 | TRUE | 1 | 51 | 693 | 43 | 5 |  TRUE | 26.8 | 58 | 0.1974707 | 5.064044 |\n",
       "| 123 | TRUE | 1 | 38 | 463 | 11 | 7 |  TRUE | 19.9 | 44 | 0.1925607 | 5.193166 |\n",
       "| 127 | TRUE | 1 | 52 | 633 | 15 | 2 | FALSE | 26.3 | 62 | 0.1506360 | 6.638520 |\n",
       "| 139 | TRUE | 1 | 36 | 818 | 57 | 3 | FALSE | 29.4 | 31 | 0.1946319 | 5.137903 |\n",
       "\n"
      ],
      "text/plain": [
       "    id  net  net_num malaria_risk income health household eligible temperature\n",
       "30   30 TRUE 1       34           798    36     1         FALSE    23.6       \n",
       "59   59 TRUE 1       35           676     8     2         FALSE    23.2       \n",
       "72   72 TRUE 1       51           693    43     5          TRUE    26.8       \n",
       "123 123 TRUE 1       38           463    11     7          TRUE    19.9       \n",
       "127 127 TRUE 1       52           633    15     2         FALSE    26.3       \n",
       "139 139 TRUE 1       36           818    57     3         FALSE    29.4       \n",
       "    insecticide_resistance pred      wt      \n",
       "30  56                     0.1948600 5.131890\n",
       "59  41                     0.1764922 5.665974\n",
       "72  58                     0.1974707 5.064044\n",
       "123 44                     0.1925607 5.193166\n",
       "127 62                     0.1506360 6.638520\n",
       "139 31                     0.1946319 5.137903"
      ]
     },
     "metadata": {},
     "output_type": "display_data"
    }
   ],
   "source": [
    "library(modelr)\n",
    "\n",
    "net_data %>% add_predictions(propensity_model, type=\"response\") %>% \n",
    "    mutate(wt = 1 / (net * pred + (1 - net) * (1 - pred))) ->\n",
    "    net_data_wts\n",
    "\n",
    "net_data_wts %>% filter(wt > 5) %>% head"
   ]
  },
  {
   "cell_type": "markdown",
   "id": "54632901",
   "metadata": {
    "slideshow": {
     "slide_type": "slide"
    }
   },
   "source": [
    "## Diagnostics\n",
    "- The idea of propensity scoring is to weight the observations such that the distribution of confounders is equal between the two groups.\n",
    "- We can (sort of) check this by visualizing the weighted and unweighted covariates."
   ]
  },
  {
   "cell_type": "code",
   "execution_count": 47,
   "id": "f1663d01",
   "metadata": {
    "slideshow": {
     "slide_type": "slide"
    }
   },
   "outputs": [
    {
     "name": "stderr",
     "output_type": "stream",
     "text": [
      "Warning message:\n",
      "“\u001b[1m\u001b[22mThe dot-dot notation (`..density..`) was deprecated in ggplot2 3.4.0.\n",
      "\u001b[36mℹ\u001b[39m Please use `after_stat(density)` instead.”\n"
     ]
    },
    {
     "data": {
      "image/png": "[encoded data removed]",
      "text/plain": [
       "plot without title"
      ]
     },
     "metadata": {
      "image/png": {
       "height": 360,
       "width": 600
      }
     },
     "output_type": "display_data"
    }
   ],
   "source": [
    "net_data_wts %>% ggplot + geom_histogram(aes(x = temperature, y = ..density.., weight=wt), bins=50) +\n",
    "    facet_grid(~ net)"
   ]
  },
  {
   "cell_type": "code",
   "execution_count": 49,
   "id": "d5b4d7b0",
   "metadata": {
    "slideshow": {
     "slide_type": "slide"
    }
   },
   "outputs": [
    {
     "name": "stderr",
     "output_type": "stream",
     "text": [
      "also installing the dependencies ‘smd’, ‘tidysmd’\n",
      "\n",
      "\n"
     ]
    },
    {
     "name": "stdout",
     "output_type": "stream",
     "text": [
      "\n",
      "The downloaded binary packages are in\n",
      "\t/var/folders/ng/qcb7p5f14nl6kwpxnh6rz73h0000gn/T//Rtmpdc8vfw/downloaded_packages\n"
     ]
    },
    {
     "name": "stderr",
     "output_type": "stream",
     "text": [
      "\u001b[1m\u001b[22m`stat_mirror_count()` using `bins = 30`. Pick better value with `binwidth`.\n"
     ]
    },
    {
     "data": {
      "image/png": "[encoded data removed]",
      "text/plain": [
       "plot without title"
      ]
     },
     "metadata": {
      "image/png": {
       "height": 360,
       "width": 600
      }
     },
     "output_type": "display_data"
    }
   ],
   "source": [
    "#install.packages(\"halfmoon\")\n",
    "library(halfmoon)\n",
    "net_data_wts %>% ggplot + geom_mirror_histogram(aes(x = pred, fill = net, weight = wt))"
   ]
  },
  {
   "cell_type": "markdown",
   "id": "f2ce25b3",
   "metadata": {
    "slideshow": {
     "slide_type": "slide"
    }
   },
   "source": [
    "## Covariate balance\n",
    "\n",
    "- The standardized (mean) difference measures distance between two group means:\n",
    "\n",
    "$$ \\text{SMD} = \\frac{\\bar{X}_1 - \\bar{X}_2}{\\sigma_\\text{pooled}} $$\n",
    "- Can be used to measure of covariate balance before and after propensity score matching.\n",
    "- (After matching, you need to use weighted means and variances of course.)"
   ]
  },
  {
   "cell_type": "code",
   "execution_count": 50,
   "id": "9a0447ea",
   "metadata": {
    "slideshow": {
     "slide_type": "slide"
    }
   },
   "outputs": [],
   "source": [
    "smd <- function(x1, x2, w1 = NULL, w2 = NULL) {\n",
    "    n1 <- length(x1)\n",
    "    n2 <- length(x2)\n",
    "    mu1 <- Hmisc::wtd.mean(x1, w1)\n",
    "    mu2 <- Hmisc::wtd.mean(x2, w2)\n",
    "    v1 <- Hmisc::wtd.var(x1, w1)\n",
    "    v2 <- Hmisc::wtd.var(x2, w2)\n",
    "    sd_pooled <- sqrt(((n1 - 1) * v1 + (n2 - 1) * v2) / (n1 + n2 - 2))\n",
    "    abs(mu1 - mu2) / sd_pooled\n",
    "}"
   ]
  },
  {
   "cell_type": "code",
   "execution_count": 51,
   "id": "714f9567",
   "metadata": {
    "scrolled": true,
    "slideshow": {
     "slide_type": "slide"
    }
   },
   "outputs": [
    {
     "data": {
      "text/html": [
       "0.00320417530635177"
      ],
      "text/latex": [
       "0.00320417530635177"
      ],
      "text/markdown": [
       "0.00320417530635177"
      ],
      "text/plain": [
       "[1] 0.003204175"
      ]
     },
     "metadata": {},
     "output_type": "display_data"
    }
   ],
   "source": [
    "e <- net_data_wts$net\n",
    "w <- net_data_wts$wt\n",
    "\n",
    "smd(net_data_wts$health[e], net_data_wts$health[!e], w[e], w[!e])"
   ]
  },
  {
   "cell_type": "code",
   "execution_count": 52,
   "id": "85ea802e",
   "metadata": {
    "slideshow": {
     "slide_type": "notes"
    }
   },
   "outputs": [],
   "source": [
    "plot_df <- tidy_smd(\n",
    "  net_data_wts,\n",
    "  c(income, health, temperature),\n",
    "  .group = net,\n",
    "  .wts = wt\n",
    ")"
   ]
  },
  {
   "cell_type": "code",
   "execution_count": 53,
   "id": "9253382c",
   "metadata": {
    "slideshow": {
     "slide_type": "slide"
    }
   },
   "outputs": [
    {
     "data": {
      "image/png": "[encoded data removed]",
      "text/plain": [
       "plot without title"
      ]
     },
     "metadata": {
      "image/png": {
       "height": 360,
       "width": 600
      }
     },
     "output_type": "display_data"
    }
   ],
   "source": [
    "ggplot(plot_df, aes(x=abs(smd), y=variable, group=method, color=method)) + geom_love()"
   ]
  },
  {
   "cell_type": "markdown",
   "id": "5dd21834",
   "metadata": {
    "slideshow": {
     "slide_type": "slide"
    }
   },
   "source": [
    "## Estimating the causal effect\n",
    "\n",
    "Now we can use weighted least squares to estimate the average treatment effect:"
   ]
  },
  {
   "cell_type": "code",
   "execution_count": 54,
   "id": "1e6c4f32",
   "metadata": {
    "slideshow": {
     "slide_type": "-"
    }
   },
   "outputs": [
    {
     "name": "stderr",
     "output_type": "stream",
     "text": [
      "\n",
      "Attaching package: ‘broom’\n",
      "\n",
      "\n",
      "The following object is masked from ‘package:modelr’:\n",
      "\n",
      "    bootstrap\n",
      "\n",
      "\n"
     ]
    },
    {
     "data": {
      "text/html": [
       "<table class=\"dataframe\">\n",
       "<caption>A tibble: 2 × 7</caption>\n",
       "<thead>\n",
       "\t<tr><th scope=col>term</th><th scope=col>estimate</th><th scope=col>std.error</th><th scope=col>statistic</th><th scope=col>p.value</th><th scope=col>conf.low</th><th scope=col>conf.high</th></tr>\n",
       "\t<tr><th scope=col>&lt;chr&gt;</th><th scope=col>&lt;dbl&gt;</th><th scope=col>&lt;dbl&gt;</th><th scope=col>&lt;dbl&gt;</th><th scope=col>&lt;dbl&gt;</th><th scope=col>&lt;dbl&gt;</th><th scope=col>&lt;dbl&gt;</th></tr>\n",
       "</thead>\n",
       "<tbody>\n",
       "\t<tr><td>(Intercept)</td><td> 42.73695</td><td>0.440660</td><td> 96.98397</td><td>0.000000e+00</td><td> 41.87268</td><td> 43.60123</td></tr>\n",
       "\t<tr><td>netTRUE    </td><td>-12.66113</td><td>0.622791</td><td>-20.32966</td><td>1.176965e-82</td><td>-13.88262</td><td>-11.43963</td></tr>\n",
       "</tbody>\n",
       "</table>\n"
      ],
      "text/latex": [
       "A tibble: 2 × 7\n",
       "\\begin{tabular}{lllllll}\n",
       " term & estimate & std.error & statistic & p.value & conf.low & conf.high\\\\\n",
       " <chr> & <dbl> & <dbl> & <dbl> & <dbl> & <dbl> & <dbl>\\\\\n",
       "\\hline\n",
       "\t (Intercept) &  42.73695 & 0.440660 &  96.98397 & 0.000000e+00 &  41.87268 &  43.60123\\\\\n",
       "\t netTRUE     & -12.66113 & 0.622791 & -20.32966 & 1.176965e-82 & -13.88262 & -11.43963\\\\\n",
       "\\end{tabular}\n"
      ],
      "text/markdown": [
       "\n",
       "A tibble: 2 × 7\n",
       "\n",
       "| term &lt;chr&gt; | estimate &lt;dbl&gt; | std.error &lt;dbl&gt; | statistic &lt;dbl&gt; | p.value &lt;dbl&gt; | conf.low &lt;dbl&gt; | conf.high &lt;dbl&gt; |\n",
       "|---|---|---|---|---|---|---|\n",
       "| (Intercept) |  42.73695 | 0.440660 |  96.98397 | 0.000000e+00 |  41.87268 |  43.60123 |\n",
       "| netTRUE     | -12.66113 | 0.622791 | -20.32966 | 1.176965e-82 | -13.88262 | -11.43963 |\n",
       "\n"
      ],
      "text/plain": [
       "  term        estimate  std.error statistic p.value      conf.low  conf.high\n",
       "1 (Intercept)  42.73695 0.440660   96.98397 0.000000e+00  41.87268  43.60123\n",
       "2 netTRUE     -12.66113 0.622791  -20.32966 1.176965e-82 -13.88262 -11.43963"
      ]
     },
     "metadata": {},
     "output_type": "display_data"
    }
   ],
   "source": [
    "library(broom)\n",
    "net_data_wts %>% \n",
    "  lm(malaria_risk ~ net, data = ., weights = wt) %>% \n",
    "  tidy(conf.int = T)"
   ]
  },
  {
   "cell_type": "markdown",
   "id": "909f9670",
   "metadata": {
    "slideshow": {
     "slide_type": "notes"
    }
   },
   "source": [
    "Are there any potential issues with this regression?\n",
    "- We've used the data twice (how?).\n",
    "- The weights themselves are random variables and they are not independent.\n",
    "- The confidence intervals will therefore be too narrow (overconfident)."
   ]
  },
  {
   "cell_type": "markdown",
   "id": "a939c4ae",
   "metadata": {
    "slideshow": {
     "slide_type": "slide"
    }
   },
   "source": [
    "## Bootstrapping standard errors\n",
    "- Getting a formula for the correct confidence intervals is difficult (though possible in this case).\n",
    "- A better solution is to use the bootstrap."
   ]
  },
  {
   "cell_type": "code",
   "execution_count": 56,
   "id": "1619bb66",
   "metadata": {
    "slideshow": {
     "slide_type": "slide"
    }
   },
   "outputs": [
    {
     "name": "stderr",
     "output_type": "stream",
     "text": [
      "also installing the dependency ‘furrr’\n",
      "\n",
      "\n"
     ]
    },
    {
     "name": "stdout",
     "output_type": "stream",
     "text": [
      "\n",
      "The downloaded binary packages are in\n",
      "\t/var/folders/ng/qcb7p5f14nl6kwpxnh6rz73h0000gn/T//Rtmpdc8vfw/downloaded_packages\n"
     ]
    }
   ],
   "source": [
    "install.packages(\"rsample\")\n",
    "library(rsample)\n",
    "\n",
    "fit_ipw_1 <- function(split, ...) {\n",
    "  # get bootstrapped data sample with `rsample::analysis()`\n",
    "  .df <- analysis(split)\n",
    "\n",
    "  # fit ipw model\n",
    "  lm(malaria_risk ~ net, data = .df, weights = wt) %>% \n",
    "    tidy()\n",
    "}"
   ]
  },
  {
   "cell_type": "code",
   "execution_count": 57,
   "id": "c44d6342",
   "metadata": {
    "slideshow": {
     "slide_type": "slide"
    }
   },
   "outputs": [],
   "source": [
    "bootstrapped_net_data <- bootstraps(\n",
    "  net_data_wts,\n",
    "  times = 1000,\n",
    "  # required to calculate CIs later\n",
    "  apparent=T,\n",
    ")"
   ]
  },
  {
   "cell_type": "code",
   "execution_count": 58,
   "id": "d775ab5a",
   "metadata": {
    "slideshow": {
     "slide_type": "slide"
    }
   },
   "outputs": [],
   "source": [
    "ipw_results <- bootstrapped_net_data %>% mutate(boot_fits = map(splits, fit_ipw_1))"
   ]
  },
  {
   "cell_type": "code",
   "execution_count": 59,
   "id": "35fbfb96",
   "metadata": {},
   "outputs": [
    {
     "name": "stderr",
     "output_type": "stream",
     "text": [
      "\u001b[1m\u001b[22m`stat_bin()` using `bins = 30`. Pick better value with `binwidth`.\n"
     ]
    },
    {
     "data": {
      "image/png": "[encoded data removed]",
      "text/plain": [
       "plot without title"
      ]
     },
     "metadata": {
      "image/png": {
       "height": 360,
       "width": 600
      }
     },
     "output_type": "display_data"
    }
   ],
   "source": [
    "ipw_results %>% mutate(estimate = map_dbl(\n",
    "    boot_fits,\n",
    "    \\(fit) fit %>% filter(term == 'netTRUE') %>% \n",
    "    pull(estimate))) %>% \n",
    "    ggplot + geom_histogram(aes(x=estimate))"
   ]
  },
  {
   "cell_type": "code",
   "execution_count": 60,
   "id": "23deadd6",
   "metadata": {
    "scrolled": true,
    "slideshow": {
     "slide_type": "slide"
    }
   },
   "outputs": [
    {
     "data": {
      "text/html": [
       "<table class=\"dataframe\">\n",
       "<caption>A tibble: 1 × 6</caption>\n",
       "<thead>\n",
       "\t<tr><th scope=col>term</th><th scope=col>.lower</th><th scope=col>.estimate</th><th scope=col>.upper</th><th scope=col>.alpha</th><th scope=col>.method</th></tr>\n",
       "\t<tr><th scope=col>&lt;chr&gt;</th><th scope=col>&lt;dbl&gt;</th><th scope=col>&lt;dbl&gt;</th><th scope=col>&lt;dbl&gt;</th><th scope=col>&lt;dbl&gt;</th><th scope=col>&lt;chr&gt;</th></tr>\n",
       "</thead>\n",
       "<tbody>\n",
       "\t<tr><td>netTRUE</td><td>-14.06557</td><td>-12.68987</td><td>-11.16764</td><td>0.05</td><td>percentile</td></tr>\n",
       "</tbody>\n",
       "</table>\n"
      ],
      "text/latex": [
       "A tibble: 1 × 6\n",
       "\\begin{tabular}{llllll}\n",
       " term & .lower & .estimate & .upper & .alpha & .method\\\\\n",
       " <chr> & <dbl> & <dbl> & <dbl> & <dbl> & <chr>\\\\\n",
       "\\hline\n",
       "\t netTRUE & -14.06557 & -12.68987 & -11.16764 & 0.05 & percentile\\\\\n",
       "\\end{tabular}\n"
      ],
      "text/markdown": [
       "\n",
       "A tibble: 1 × 6\n",
       "\n",
       "| term &lt;chr&gt; | .lower &lt;dbl&gt; | .estimate &lt;dbl&gt; | .upper &lt;dbl&gt; | .alpha &lt;dbl&gt; | .method &lt;chr&gt; |\n",
       "|---|---|---|---|---|---|\n",
       "| netTRUE | -14.06557 | -12.68987 | -11.16764 | 0.05 | percentile |\n",
       "\n"
      ],
      "text/plain": [
       "  term    .lower    .estimate .upper    .alpha .method   \n",
       "1 netTRUE -14.06557 -12.68987 -11.16764 0.05   percentile"
      ]
     },
     "metadata": {},
     "output_type": "display_data"
    }
   ],
   "source": [
    "boot_estimates <- ipw_results %>% int_pctl(boot_fits) %>% filter(term == \"netTRUE\")\n",
    "boot_estimates"
   ]
  },
  {
   "cell_type": "markdown",
   "id": "58ad03de",
   "metadata": {
    "slideshow": {
     "slide_type": "slide"
    }
   },
   "source": [
    "## Sensitivity analysis\n",
    "- The above analysis is correct as far is the assumptions we made going in hold.\n",
    "- What were those assumptions?"
   ]
  },
  {
   "cell_type": "markdown",
   "id": "867e898c",
   "metadata": {
    "slideshow": {
     "slide_type": "slide"
    }
   },
   "source": [
    "Let's suppose we indeed have an unmeasured confounder. We will ask the question:\n",
    "    \n",
    "> How much would the confounder have to affect malaria risk before we fail to reject the null?"
   ]
  },
  {
   "cell_type": "code",
   "execution_count": 64,
   "id": "d348e55d",
   "metadata": {},
   "outputs": [
    {
     "name": "stderr",
     "output_type": "stream",
     "text": [
      "\u001b[1m\u001b[22m\u001b[36mℹ\u001b[39m The observed effect (-11.17, -11.17, -11.17, -11.17, and -11.17) WOULD be\n",
      "  tipped by 1, 1, 1, 1, and 1 unmeasured confounder, , , , and with the\n",
      "  following specifications:\n",
      "\u001b[36m•\u001b[39m estimated difference in scaled means between the unmeasured confounder in the\n",
      "  exposed population and unexposed population: 1, 2, 3, 4, and 5\n",
      "\u001b[36m•\u001b[39m estimated relationship between the unmeasured confounder and the outcome:\n",
      "  -11.17, -5.58, -3.72, -2.79, and -2.23\n"
     ]
    },
    {
     "data": {
      "text/html": [
       "<table class=\"dataframe\">\n",
       "<caption>A tibble: 5 × 4</caption>\n",
       "<thead>\n",
       "\t<tr><th scope=col>effect_observed</th><th scope=col>exposure_confounder_effect</th><th scope=col>confounder_outcome_effect</th><th scope=col>n_unmeasured_confounders</th></tr>\n",
       "\t<tr><th scope=col>&lt;dbl&gt;</th><th scope=col>&lt;int&gt;</th><th scope=col>&lt;dbl&gt;</th><th scope=col>&lt;dbl&gt;</th></tr>\n",
       "</thead>\n",
       "<tbody>\n",
       "\t<tr><td>-11.16764</td><td>1</td><td>-11.167640</td><td>1</td></tr>\n",
       "\t<tr><td>-11.16764</td><td>2</td><td> -5.583820</td><td>1</td></tr>\n",
       "\t<tr><td>-11.16764</td><td>3</td><td> -3.722547</td><td>1</td></tr>\n",
       "\t<tr><td>-11.16764</td><td>4</td><td> -2.791910</td><td>1</td></tr>\n",
       "\t<tr><td>-11.16764</td><td>5</td><td> -2.233528</td><td>1</td></tr>\n",
       "</tbody>\n",
       "</table>\n"
      ],
      "text/latex": [
       "A tibble: 5 × 4\n",
       "\\begin{tabular}{llll}\n",
       " effect\\_observed & exposure\\_confounder\\_effect & confounder\\_outcome\\_effect & n\\_unmeasured\\_confounders\\\\\n",
       " <dbl> & <int> & <dbl> & <dbl>\\\\\n",
       "\\hline\n",
       "\t -11.16764 & 1 & -11.167640 & 1\\\\\n",
       "\t -11.16764 & 2 &  -5.583820 & 1\\\\\n",
       "\t -11.16764 & 3 &  -3.722547 & 1\\\\\n",
       "\t -11.16764 & 4 &  -2.791910 & 1\\\\\n",
       "\t -11.16764 & 5 &  -2.233528 & 1\\\\\n",
       "\\end{tabular}\n"
      ],
      "text/markdown": [
       "\n",
       "A tibble: 5 × 4\n",
       "\n",
       "| effect_observed &lt;dbl&gt; | exposure_confounder_effect &lt;int&gt; | confounder_outcome_effect &lt;dbl&gt; | n_unmeasured_confounders &lt;dbl&gt; |\n",
       "|---|---|---|---|\n",
       "| -11.16764 | 1 | -11.167640 | 1 |\n",
       "| -11.16764 | 2 |  -5.583820 | 1 |\n",
       "| -11.16764 | 3 |  -3.722547 | 1 |\n",
       "| -11.16764 | 4 |  -2.791910 | 1 |\n",
       "| -11.16764 | 5 |  -2.233528 | 1 |\n",
       "\n"
      ],
      "text/plain": [
       "  effect_observed exposure_confounder_effect confounder_outcome_effect\n",
       "1 -11.16764       1                          -11.167640               \n",
       "2 -11.16764       2                           -5.583820               \n",
       "3 -11.16764       3                           -3.722547               \n",
       "4 -11.16764       4                           -2.791910               \n",
       "5 -11.16764       5                           -2.233528               \n",
       "  n_unmeasured_confounders\n",
       "1 1                       \n",
       "2 1                       \n",
       "3 1                       \n",
       "4 1                       \n",
       "5 1                       "
      ]
     },
     "metadata": {},
     "output_type": "display_data"
    }
   ],
   "source": [
    "#install.packages(\"tipr\")\n",
    "library(tipr)\n",
    "tipping_points <- tip_coef(boot_estimates$.upper, exposure_confounder_effect = 1:5)\n",
    "tipping_points"
   ]
  },
  {
   "cell_type": "code",
   "execution_count": 65,
   "id": "41259d5a",
   "metadata": {
    "slideshow": {
     "slide_type": "slide"
    }
   },
   "outputs": [
    {
     "data": {
      "image/png": "[encoded data removed]",
      "text/plain": [
       "plot without title"
      ]
     },
     "metadata": {
      "image/png": {
       "height": 360,
       "width": 600
      }
     },
     "output_type": "display_data"
    }
   ],
   "source": [
    "tipping_points %>% \n",
    "  ggplot(aes(confounder_outcome_effect, exposure_confounder_effect)) +\n",
    "  geom_line(color = \"#009E73\", linewidth = 1.1) +\n",
    "  geom_point(fill = \"#009E73\", color = \"white\", size = 2.5, shape = 21) +\n",
    "  labs(\n",
    "    x = \"Confounder-Outcome Effect\",\n",
    "    y = \"Scaled mean differences in\\n confounder between exposure groups\"\n",
    "  )"
   ]
  },
  {
   "cell_type": "markdown",
   "id": "07059fca",
   "metadata": {
    "slideshow": {
     "slide_type": "slide"
    }
   },
   "source": [
    "## Malaria resistance\n",
    "- Some ethnic group have a genetic resistance to malaria.\n",
    "- Let’s say that in our simulated data,\n",
    "  - People with this genetic resistance have, on average, a lower malaria risk by about 10 points.\n",
    "  - About 26% of people who use nets in our study have this genetic resistance.\n",
    "  - About 5% of people who don’t use nets have this genetic resistance."
   ]
  },
  {
   "cell_type": "code",
   "execution_count": 66,
   "id": "bdb43bd8",
   "metadata": {
    "slideshow": {
     "slide_type": "slide"
    }
   },
   "outputs": [
    {
     "name": "stderr",
     "output_type": "stream",
     "text": [
      "\u001b[1m\u001b[22m\u001b[36mℹ\u001b[39m The observed effect (-12.69, -14.07, and -11.17) is updated to -10.59,\n",
      "  -11.97, and -9.07 by a confounder with the following specifications:\n",
      "\u001b[36m•\u001b[39m estimated prevalence of the unmeasured confounder in the exposed population:\n",
      "  0.26\n",
      "\u001b[36m•\u001b[39m estimated prevalence of the unmeasured confounder in the unexposed\n",
      "  population: 0.05\n",
      "\u001b[36m•\u001b[39m estimated relationship between the unmeasured confounder and the outcome: -10\n"
     ]
    },
    {
     "data": {
      "text/html": [
       "<table class=\"dataframe\">\n",
       "<caption>A tibble: 3 × 4</caption>\n",
       "<thead>\n",
       "\t<tr><th scope=col>effect_adjusted</th><th scope=col>effect_observed</th><th scope=col>exposure_confounder_effect</th><th scope=col>confounder_outcome_effect</th></tr>\n",
       "\t<tr><th scope=col>&lt;dbl&gt;</th><th scope=col>&lt;dbl&gt;</th><th scope=col>&lt;dbl&gt;</th><th scope=col>&lt;dbl&gt;</th></tr>\n",
       "</thead>\n",
       "<tbody>\n",
       "\t<tr><td>-10.58987</td><td>-12.68987</td><td>0.21</td><td>-10</td></tr>\n",
       "\t<tr><td>-11.96557</td><td>-14.06557</td><td>0.21</td><td>-10</td></tr>\n",
       "\t<tr><td> -9.06764</td><td>-11.16764</td><td>0.21</td><td>-10</td></tr>\n",
       "</tbody>\n",
       "</table>\n"
      ],
      "text/latex": [
       "A tibble: 3 × 4\n",
       "\\begin{tabular}{llll}\n",
       " effect\\_adjusted & effect\\_observed & exposure\\_confounder\\_effect & confounder\\_outcome\\_effect\\\\\n",
       " <dbl> & <dbl> & <dbl> & <dbl>\\\\\n",
       "\\hline\n",
       "\t -10.58987 & -12.68987 & 0.21 & -10\\\\\n",
       "\t -11.96557 & -14.06557 & 0.21 & -10\\\\\n",
       "\t  -9.06764 & -11.16764 & 0.21 & -10\\\\\n",
       "\\end{tabular}\n"
      ],
      "text/markdown": [
       "\n",
       "A tibble: 3 × 4\n",
       "\n",
       "| effect_adjusted &lt;dbl&gt; | effect_observed &lt;dbl&gt; | exposure_confounder_effect &lt;dbl&gt; | confounder_outcome_effect &lt;dbl&gt; |\n",
       "|---|---|---|---|\n",
       "| -10.58987 | -12.68987 | 0.21 | -10 |\n",
       "| -11.96557 | -14.06557 | 0.21 | -10 |\n",
       "|  -9.06764 | -11.16764 | 0.21 | -10 |\n",
       "\n"
      ],
      "text/plain": [
       "          effect_adjusted effect_observed exposure_confounder_effect\n",
       ".estimate -10.58987       -12.68987       0.21                      \n",
       ".lower    -11.96557       -14.06557       0.21                      \n",
       ".upper     -9.06764       -11.16764       0.21                      \n",
       "          confounder_outcome_effect\n",
       ".estimate -10                      \n",
       ".lower    -10                      \n",
       ".upper    -10                      "
      ]
     },
     "metadata": {},
     "output_type": "display_data"
    }
   ],
   "source": [
    "adjusted_estimates <- boot_estimates |>\n",
    "  select(.estimate, .lower, .upper) |>\n",
    "  unlist() |>\n",
    "  adjust_coef_with_binary(\n",
    "    exposed_confounder_prev = 0.26,\n",
    "    unexposed_confounder_prev = 0.05,\n",
    "    confounder_outcome_effect = -10\n",
    "  )\n",
    "\n",
    "adjusted_estimates"
   ]
  },
  {
   "cell_type": "markdown",
   "id": "6cf054a8",
   "metadata": {
    "slideshow": {
     "slide_type": "slide"
    }
   },
   "source": [
    "![true causal](https://www.r-causal.org/chapters/02-whole-game_files/figure-html/fig-net-data-true-dag-1.png)"
   ]
  }
 ],
 "metadata": {
  "celltoolbar": "Slideshow",
  "jupytext": {
   "formats": "ipynb,md:myst",
   "notebook_metadata_filter": "all"
  },
  "kernelspec": {
   "display_name": "R",
   "language": "R",
   "name": "ir"
  },
  "language_info": {
   "codemirror_mode": "r",
   "file_extension": ".r",
   "mimetype": "text/x-r-source",
   "name": "R",
   "pygments_lexer": "r",
   "version": "4.5.1"
  },
  "rise": {
   "auto_select": "none",
   "autolaunch": true,
   "center": false,
   "controls": false,
   "enable_chalkboard": true,
   "progress": false,
   "scroll": true,
   "slideNumber": false,
   "theme": "simple",
   "transition": "none"
  },
  "toc-showtags": true
 },
 "nbformat": 4,
 "nbformat_minor": 5
}
