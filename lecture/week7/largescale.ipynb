{
 "cells": [
  {
   "cell_type": "markdown",
   "id": "0",
   "metadata": {},
   "source": [
    "# iNaturalist data\n",
    "\n",
    "[iNaturalist](https://inaturalist.org) is a platform that collects observations of living organisms, annotated with their locations and taxonomic identifiers.\n",
    "\n",
    "One line of research that can be addressed using the iNaturalist data is to characterize temporal trends in the locations at which plants of a particular species are observed.  We will be considering data for plants here. The individual plants can be assumed to have fixed locations, but the range of a species can change over time.  Such range changes could be due to changes in environmental conditions (e.g. climate), or to changes in the behavior of the human observers.\n",
    "\n",
    "This notebook illustrates some methods of [large scale inference](https://efron.ckirby.su.domains/other/2010LSIexcerpt.pdf) that can be used to identify systematic changes in species locations over time. "
   ]
  },
  {
   "cell_type": "code",
   "execution_count": null,
   "id": "1",
   "metadata": {},
   "outputs": [],
   "source": [
    "import numpy as np\n",
    "import pandas as pd\n",
    "import statsmodels.api as sm\n",
    "from pathlib import Path\n",
    "import cartopy.crs as ccrs\n",
    "from scipy.stats.distributions import norm, chi2\n",
    "from scipy.stats.distributions import t as tdist\n",
    "from statsmodels.stats.multitest import local_fdr\n",
    "from statsmodels.nonparametric.smoothers_lowess import lowess\n",
    "import matplotlib.pyplot as plt"
   ]
  },
  {
   "cell_type": "markdown",
   "id": "2",
   "metadata": {},
   "source": [
    "Below we select a [class](https://en.wikipedia.org/wiki/Class_(biology)) of species to analyze.  A class is a taxonomic grouping that includes many species.  [Pinopsida](https://en.wikipedia.org/wiki/Conifer) are conifers and [polypodiopsida](https://en.wikipedia.org/wiki/Fern) are ferns."
   ]
  },
  {
   "cell_type": "code",
   "execution_count": null,
   "id": "3",
   "metadata": {},
   "outputs": [],
   "source": [
    "#pclass = \"Pinopsida\"\n",
    "pclass = \"Polypodiopsida\""
   ]
  },
  {
   "cell_type": "markdown",
   "id": "4",
   "metadata": {},
   "source": [
    "The data are located at this path:"
   ]
  },
  {
   "cell_type": "code",
   "execution_count": null,
   "id": "5",
   "metadata": {},
   "outputs": [],
   "source": [
    "pa = Path(\"/home/kshedden/data/Teaching/inaturalist\")\n",
    "fn = pa / (\"Plantae_%s.csv.gz\" % pclass)"
   ]
  },
  {
   "cell_type": "markdown",
   "id": "6",
   "metadata": {},
   "source": [
    "Below we load the data and show what the data file looks like."
   ]
  },
  {
   "cell_type": "code",
   "execution_count": null,
   "id": "7",
   "metadata": {},
   "outputs": [],
   "source": [
    "df = pd.read_csv(fn, parse_dates=[\"eventDate\"])\n",
    "print(df.shape)\n",
    "df.head()"
   ]
  },
  {
   "cell_type": "markdown",
   "id": "8",
   "metadata": {},
   "source": [
    "The dates are mostly in the past 8 years, but a few dates are much older than that.  We will analyze observations made since 2015."
   ]
  },
  {
   "cell_type": "code",
   "execution_count": null,
   "id": "9",
   "metadata": {},
   "outputs": [],
   "source": [
    "df = df.query(\"eventDate >= 20150101\")"
   ]
  },
  {
   "cell_type": "markdown",
   "id": "10",
   "metadata": {},
   "source": [
    "Next we construct a time variable that starts on January 1, 2015 and counts in 1000's of days from that origin.  We will be interested in the evidence that for specific species, the average latitude changes linearly as a function of this 'day' variable. This would suggest that the species range is trending away from the equator (either north or south).  A simplistic climate change framing would posit that plants in the northern hemisphere would tend to move northward and plants in the southern hemisphere would tend to move southward."
   ]
  },
  {
   "cell_type": "code",
   "execution_count": null,
   "id": "11",
   "metadata": {},
   "outputs": [],
   "source": [
    "df[\"day\"] = (df[\"eventDate\"] - pd.to_datetime(\"2015-01-01\")).dt.days\n",
    "df[\"day\"] /= 1000"
   ]
  },
  {
   "cell_type": "markdown",
   "id": "12",
   "metadata": {},
   "source": [
    "This is the total number of observations (the number of plant occurrences in the dataset for the selected class of species):"
   ]
  },
  {
   "cell_type": "code",
   "execution_count": null,
   "id": "13",
   "metadata": {},
   "outputs": [],
   "source": [
    "df.shape"
   ]
  },
  {
   "cell_type": "markdown",
   "id": "14",
   "metadata": {},
   "source": [
    "The next cell calculates the number of distinct species."
   ]
  },
  {
   "cell_type": "code",
   "execution_count": null,
   "id": "15",
   "metadata": {},
   "outputs": [],
   "source": [
    "df[\"species\"].value_counts().size"
   ]
  },
  {
   "cell_type": "markdown",
   "id": "16",
   "metadata": {},
   "source": [
    "Below we make a histogram of the number of observations per species."
   ]
  },
  {
   "cell_type": "code",
   "execution_count": null,
   "id": "17",
   "metadata": {},
   "outputs": [],
   "source": [
    "nn = df.groupby(\"species\").size()\n",
    "plt.hist(np.log10(nn))\n",
    "plt.xlabel(\"log10 number of observations\")\n",
    "plt.ylabel(\"Frequency\")"
   ]
  },
  {
   "cell_type": "markdown",
   "id": "18",
   "metadata": {},
   "source": [
    "A quantile plot is usually more informative than a histogram."
   ]
  },
  {
   "cell_type": "code",
   "execution_count": null,
   "id": "19",
   "metadata": {},
   "outputs": [],
   "source": [
    "plt.clf()\n",
    "plt.grid(True)\n",
    "plt.plot(np.sort(np.log10(nn)))\n",
    "plt.xlabel(\"Number of species\")\n",
    "plt.ylabel(\"log10 number of observations\")"
   ]
  },
  {
   "cell_type": "markdown",
   "id": "20",
   "metadata": {},
   "source": [
    "The map below shows the distribution of the occurrences (the locations where a plant in the selected class was observed)."
   ]
  },
  {
   "cell_type": "code",
   "execution_count": null,
   "id": "21",
   "metadata": {},
   "outputs": [],
   "source": [
    "plt.clf()\n",
    "plt.figure(figsize=(9, 7.25))\n",
    "ax = plt.axes([0.05, 0.05, 0.84, 0.88], projection=ccrs.PlateCarree(central_longitude=180))\n",
    "ax.coastlines()\n",
    "ax.set_extent([0, 310, -60, 80])\n",
    "\n",
    "plt.scatter(df[\"decimalLongitude\"], df[\"decimalLatitude\"], s=8, alpha=0.1, color=\"red\", \n",
    "            transform=ccrs.Geodetic(), rasterized=True)"
   ]
  },
  {
   "cell_type": "markdown",
   "id": "22",
   "metadata": {},
   "source": [
    "The histogram below shows the distribution of the 'day' variable.  This shows how the use of the platform has been increasing."
   ]
  },
  {
   "cell_type": "code",
   "execution_count": null,
   "id": "23",
   "metadata": {},
   "outputs": [],
   "source": [
    "plt.hist(2015 + df[\"day\"] * 1000 / 365)\n",
    "plt.xlabel(\"Year\")\n",
    "plt.ylabel(\"Frequency\")"
   ]
  },
  {
   "cell_type": "markdown",
   "id": "24",
   "metadata": {},
   "source": [
    "Get the mean latitude per species.  Individuals within a species vary in terms of their locations.  We will use the mean latitude as a measure of the central latitude value for each species."
   ]
  },
  {
   "cell_type": "code",
   "execution_count": null,
   "id": "25",
   "metadata": {},
   "outputs": [],
   "source": [
    "meanLat = df.groupby(\"species\")[\"decimalLatitude\"].aggregate(np.mean)\n",
    "meanLat = meanLat.rename(\"meanLatitude\")"
   ]
  },
  {
   "cell_type": "markdown",
   "id": "26",
   "metadata": {},
   "source": [
    "The intraclass correlation (ICC) is a measure of how much the latitudes of species centroids vary in relation to how much the latitudes of individual plants vary. "
   ]
  },
  {
   "cell_type": "code",
   "execution_count": null,
   "id": "27",
   "metadata": {},
   "outputs": [],
   "source": [
    "df = pd.merge(df, meanLat, on=\"species\")\n",
    "icc = df[\"meanLatitude\"].var() / df[\"decimalLatitude\"].var()\n",
    "print(icc)"
   ]
  },
  {
   "cell_type": "markdown",
   "id": "28",
   "metadata": {},
   "source": [
    "Longitude is a circular variable, we begin by converting it to a trigonometric basis."
   ]
  },
  {
   "cell_type": "code",
   "execution_count": null,
   "id": "29",
   "metadata": {},
   "outputs": [],
   "source": [
    "df[\"lonrad\"] = np.pi * df[\"decimalLongitude\"] / 180\n",
    "df[\"lonrad_sin\"] = np.sin(df[\"lonrad\"])\n",
    "df[\"lonrad_cos\"] = np.cos(df[\"lonrad\"])"
   ]
  },
  {
   "cell_type": "markdown",
   "id": "30",
   "metadata": {},
   "source": [
    "Create within-species residuals for the locations."
   ]
  },
  {
   "cell_type": "code",
   "execution_count": null,
   "id": "31",
   "metadata": {},
   "outputs": [],
   "source": [
    "for x in [\"lonrad_sin\", \"lonrad_cos\"]:\n",
    "    df[x+\"_cen\"] = df.groupby(\"species\")[x].transform(\"mean\")\n",
    "u = np.sqrt(df[\"lonrad_sin_cen\"]**2 + df[\"lonrad_cos_cen\"]**2)\n",
    "for x in [\"lonrad_sin\", \"lonrad_cos\"]:\n",
    "    df[x+\"_cen\"] /= u\n",
    "    df[x+\"_resid\"] = df[x] - df[x+\"_cen\"]"
   ]
  },
  {
   "cell_type": "markdown",
   "id": "32",
   "metadata": {},
   "source": [
    "To demonstrate what this circular residualization process is doing, we make some plots below, focusing on one of the most prevalent species."
   ]
  },
  {
   "cell_type": "code",
   "execution_count": null,
   "id": "33",
   "metadata": {},
   "outputs": [],
   "source": [
    "ns = df[\"species\"].value_counts()\n",
    "dd = df.query(\"species == '%s'\" % ns.index[2]).copy()\n",
    "\n",
    "dd[\"nrm\"] = np.sqrt(dd[\"lonrad_cos_resid\"]**2 + dd[\"lonrad_sin_resid\"]**2)\n",
    "\n",
    "for vn in [\"lonrad_cos_resid\", \"lonrad_sin_resid\", \"nrm\"]:\n",
    "    plt.figure(figsize=(7, 6))\n",
    "    ax = plt.axes([0.05, 0.05, 0.84, 0.88], projection=ccrs.PlateCarree(central_longitude=180))\n",
    "    ax.coastlines()\n",
    "    ax.set_extent([0, 310, -60, 80])\n",
    "\n",
    "    dd[\"nrmq\"] = pd.qcut(dd[vn], 4)\n",
    "    for (ky,d1) in dd.groupby(\"nrmq\"):\n",
    "        plt.scatter(d1[\"decimalLongitude\"], d1[\"decimalLatitude\"], s=8, alpha=0.9,\n",
    "                    label=ky, transform=ccrs.Geodetic(), rasterized=True)\n",
    "    plt.figlegend()\n",
    "    plt.show()"
   ]
  },
  {
   "cell_type": "markdown",
   "id": "34",
   "metadata": {},
   "source": [
    "Create a variable that cannot contain any unique information about the outcome.  This is used to assess the validity of the analyses conducted below."
   ]
  },
  {
   "cell_type": "code",
   "execution_count": null,
   "id": "35",
   "metadata": {},
   "outputs": [],
   "source": [
    "df[\"fake\"] = df[\"lonrad_cos\"] + np.random.normal(size=df.shape[0])"
   ]
  },
  {
   "cell_type": "markdown",
   "id": "36",
   "metadata": {},
   "source": [
    "Below we fit a linear model predicting latitude from day and other variables, using OLS, for each species.  The main interest here is the relationship between \"day\" and the species-level mean latitude.  If this coefficient is positive for a given species, this species is identified at more northernly locations as time progresses.  If the coefficient is negative the species is identified at more southernly locations as time progresses.  We assess these effects using two models.  The first model has only main effects and the second model allows the time trend in mean latitude to vary by longitude."
   ]
  },
  {
   "cell_type": "code",
   "execution_count": null,
   "id": "37",
   "metadata": {},
   "outputs": [],
   "source": [
    "rr = []\n",
    "for (sp,dx) in df.groupby(\"species\"):\n",
    "\n",
    "    if dx.shape[0] < 10:\n",
    "        continue\n",
    "\n",
    "    md1 = sm.OLS.from_formula(\"decimalLatitude ~ day + lonrad_sin + lonrad_cos + fake\", data=dx)\n",
    "    mr1 = md1.fit()\n",
    "\n",
    "    md2 = sm.OLS.from_formula(\"decimalLatitude ~ day * (lonrad_sin + lonrad_cos + fake)\", data=dx)\n",
    "    mr2 = md2.fit()\n",
    "\n",
    "    # The likelihood ratio test statistic and its degrees of freedom.\n",
    "    lrt = 2 * (mr2.llf - mr1.llf)\n",
    "    dof = mr2.df_model - mr1.df_model\n",
    "\n",
    "    # Convert the LRT statistic to a normal score\n",
    "    lrt_z = norm.ppf(chi2.cdf(lrt, dof))\n",
    "    \n",
    "    # This is a measure of how identifiable the model is\n",
    "    ss = np.linalg.svd(md1.exog,0)[1]\n",
    "    mineig = ss.min() / ss.max()\n",
    "    \n",
    "    # Apply a normalizing transformation to the LRT statistics.\n",
    "    # This is called the Wilson-Hilferty transformation.\n",
    "    if dof == 3 and mineig > 1e-7:\n",
    "        lrt_zwh = (lrt / dof)**(1/3)\n",
    "        lrt_zwh -= 1 - 2/(9*dof)\n",
    "        lrt_zwh /= np.sqrt(2/(9*dof))\n",
    "    else:\n",
    "        lrt_zwh = 0\n",
    "\n",
    "    rr.append([sp, dx.shape[0], mr1.params[\"day\"], mr1.bse[\"day\"], mr1.params[\"fake\"], mr1.bse[\"fake\"], \n",
    "               lrt_z, lrt_zwh])\n",
    " \n",
    "rr = pd.DataFrame(rr, columns=[\"species\", \"n\", \"day_slope\", \"day_slope_se\", \"fake_slope\", \"fake_slope_se\", \n",
    "                               \"lrt_z\", \"lrt_zwh\"])\n",
    "rr = rr.loc[rr[\"day_slope_se\"] > 0]\n",
    "rr.head()"
   ]
  },
  {
   "cell_type": "markdown",
   "id": "38",
   "metadata": {},
   "source": [
    "The plot below shows that the cube root transform was very effective at normalizing the LRT statistics."
   ]
  },
  {
   "cell_type": "code",
   "execution_count": null,
   "id": "39",
   "metadata": {},
   "outputs": [],
   "source": [
    "plt.grid(True)\n",
    "plt.plot(rr.lrt_z, rr.lrt_zwh, \"o\", alpha=0.5)\n",
    "plt.xlabel(\"LRT transformed to normal score\")\n",
    "plt.ylabel(\"LRT after cube root transform\")"
   ]
  },
  {
   "cell_type": "markdown",
   "id": "40",
   "metadata": {},
   "source": [
    "Since the longitude interactions are strong, we use models with interactions for the remainder of the analysis.  Furthermore, we use within species longitude residuals to control for longitude effects within each species.  After doing this, the day slopes can be interpreted as the day slopes at the central longitude of the species range."
   ]
  },
  {
   "cell_type": "code",
   "execution_count": null,
   "id": "41",
   "metadata": {},
   "outputs": [],
   "source": [
    "qq = []\n",
    "for (sp,dx) in df.groupby(\"species\"):\n",
    "\n",
    "    if dx.shape[0] < 10:\n",
    "        continue\n",
    "\n",
    "    md1 = sm.OLS.from_formula(\"decimalLatitude ~ day + lonrad_sin_resid + lonrad_cos_resid + fake\", data=dx)\n",
    "    md2 = sm.OLS.from_formula(\"decimalLatitude ~ day * (lonrad_sin_resid + lonrad_cos_resid + fake)\", data=dx)\n",
    "    \n",
    "    # Exclude species for which the effects are weakly identified\n",
    "    ss = np.linalg.svd(md1.exog,0)[1]\n",
    "    mineig = ss.min() / ss.max()\n",
    "    if mineig < 1e-7:\n",
    "        continue\n",
    "    \n",
    "    mr1 = md1.fit()\n",
    "    mr2 = md2.fit()\n",
    "\n",
    "    # The likelihood ratio test statistic and its degrees of freedom.\n",
    "    lrt = 2 * (mr2.llf - mr1.llf)\n",
    "    dof = mr2.df_model - mr1.df_model\n",
    "\n",
    "    # Convert the LRT statistic to a normal score\n",
    "    lrt_z = norm.ppf(chi2.cdf(lrt, dof))\n",
    "    \n",
    "    qq.append([sp, dx.shape[0], mr2.params[\"day\"], mr2.bse[\"day\"], mr2.params[\"fake\"], mr2.bse[\"fake\"], lrt_z])\n",
    " \n",
    "qq = pd.DataFrame(qq, columns=[\"species\", \"n\", \"day_slope\", \"day_slope_se\", \"fake_slope\", \"fake_slope_se\", \n",
    "                               \"lrt_z\"])\n",
    "\n",
    "qq = qq.loc[rr[\"day_slope_se\"] > 0]\n",
    "qq.head()"
   ]
  },
  {
   "cell_type": "markdown",
   "id": "42",
   "metadata": {},
   "source": [
    "Construct T-scores for parameters of interest. For species with large sample sizes these should be approximate Z-scores (they follow a standard normal distribution under the null hypothesis that the day slope is zero).  For smaller sample sizes we need to account for the uncertainty in the scale parameter estimate. "
   ]
  },
  {
   "cell_type": "code",
   "execution_count": null,
   "id": "43",
   "metadata": {},
   "outputs": [],
   "source": [
    "qq[\"day_slope_t\"] = qq[\"day_slope\"] / qq[\"day_slope_se\"]\n",
    "qq[\"fake_slope_t\"] = qq[\"fake_slope\"] / qq[\"fake_slope_se\"]\n",
    "qq.head()"
   ]
  },
  {
   "cell_type": "code",
   "execution_count": null,
   "id": "44",
   "metadata": {
    "lines_to_next_cell": 1
   },
   "outputs": [],
   "source": [
    "qq = pd.merge(qq, meanLat, left_on=\"species\", right_index=True)\n",
    "qq.head()"
   ]
  },
  {
   "cell_type": "markdown",
   "id": "45",
   "metadata": {},
   "source": [
    "Account for finite group sizes, by mapping the t-distributed statistics to normally distributed statistics."
   ]
  },
  {
   "cell_type": "code",
   "execution_count": null,
   "id": "46",
   "metadata": {
    "lines_to_next_cell": 1
   },
   "outputs": [],
   "source": [
    "def t_adjust(qq, vn, dof=5):\n",
    "    x = tdist.cdf(qq[vn], qq[\"n\"] - dof)\n",
    "    x = np.clip(x, 1e-12, 1-1e-12)\n",
    "    return norm.ppf(x)\n",
    "\n",
    "qq[\"day_slope_z\"] = t_adjust(qq, \"day_slope_t\")\n",
    "qq[\"fake_slope_z\"] = t_adjust(qq, \"fake_slope_t\")"
   ]
  },
  {
   "cell_type": "markdown",
   "id": "47",
   "metadata": {},
   "source": [
    "The plot below illustrates the conversion from t-scores to z-scores."
   ]
  },
  {
   "cell_type": "code",
   "execution_count": null,
   "id": "48",
   "metadata": {},
   "outputs": [],
   "source": [
    "plt.clf()\n",
    "plt.grid(True)\n",
    "plt.plot(qq[\"day_slope_t\"], qq[\"day_slope_z\"], \"o\", alpha=0.2)\n",
    "plt.axline((0,0), slope=1, color=\"grey\")\n",
    "plt.xlim(-20,20)\n",
    "plt.xlabel(\"Z-statistic\", size=15)\n",
    "plt.ylabel(\"T-statistic\", size=15)"
   ]
  },
  {
   "cell_type": "markdown",
   "id": "49",
   "metadata": {},
   "source": [
    "Below we plot the distribution of day slope Z-scores.  The orange curve is what we would expect to see if no species ranges are changing."
   ]
  },
  {
   "cell_type": "code",
   "execution_count": null,
   "id": "50",
   "metadata": {},
   "outputs": [],
   "source": [
    "plt.hist(qq[\"day_slope_z\"], bins=20, density=True)\n",
    "x = np.linspace(-4, 4, 100)\n",
    "y = np.exp(-x**2/2) / np.sqrt(2*np.pi)\n",
    "plt.plot(x, y, color=\"orange\")\n",
    "plt.xlabel(\"Day slope (Z-score)\")\n",
    "plt.ylabel(\"Standard normal density\")"
   ]
  },
  {
   "cell_type": "markdown",
   "id": "51",
   "metadata": {},
   "source": [
    "The z-scores for the estimated slope of the \"fake\" (simulated random) covariate match the standard normal distribution well."
   ]
  },
  {
   "cell_type": "code",
   "execution_count": null,
   "id": "52",
   "metadata": {},
   "outputs": [],
   "source": [
    "plt.hist(qq[\"fake_slope_z\"], bins=20, density=True)\n",
    "x = np.linspace(-4, 4, 100)\n",
    "y = np.exp(-x**2/2) / np.sqrt(2*np.pi)\n",
    "plt.plot(x, y, color=\"orange\")\n",
    "plt.xlabel(\"Fake slope (Z-score)\")\n",
    "plt.ylabel(\"Standard normal density\")"
   ]
  },
  {
   "cell_type": "markdown",
   "id": "53",
   "metadata": {},
   "source": [
    "Quantile-quantile plots are usually a more informative way to compare distributions than histograms.  Below we use QQ plots to compare the Z-scores for the observed data to the reference distribution of Z-scores.  \n",
    "\n",
    "When analyzing the \"polypodiopsida\" (fern) class, we see that the observed Z-scores are substantially inflated relative to the reference Z-scores, suggesting that many of the day slope parameters are substantially different from zero.  The z-scores for the \"fake\" variable are almost perfectly standard normal, as expected.  The third plot below shows the normalized likelihood ratio test statistic comparing the base model with additive day and longitude effects to the model with day and longitude interactions."
   ]
  },
  {
   "cell_type": "code",
   "execution_count": null,
   "id": "54",
   "metadata": {},
   "outputs": [],
   "source": [
    "n = qq.shape[0]\n",
    "xx = np.linspace(1/n, 1-1/n, n)\n",
    "yy = norm.ppf(xx)\n",
    "for vn in [\"day_slope\", \"fake_slope\", \"lrt\"]:\n",
    "    zs = np.sort(qq[\"%s_z\" % vn])\n",
    "    plt.clf()\n",
    "    plt.grid(True)\n",
    "    plt.plot(zs, yy, \"-\")\n",
    "    ii = np.ceil(np.linspace(0.1, 0.9, 9) * len(yy)).astype(int)\n",
    "    plt.plot(zs[ii], yy[ii], \"o\", color=\"red\")\n",
    "    plt.axline((0, 0), slope=1, color=\"grey\")\n",
    "    plt.xlabel(\"Observed %s quantiles\" % vn, size=15)\n",
    "    plt.ylabel(\"Standard normal quantiles\", size=15)\n",
    "    plt.show()"
   ]
  },
  {
   "cell_type": "markdown",
   "id": "55",
   "metadata": {},
   "source": [
    "To control family-wise error rates at 0.05 using the Bonferroni approach, the Z-scores must exceed the value calculated below in magnitude."
   ]
  },
  {
   "cell_type": "code",
   "execution_count": null,
   "id": "56",
   "metadata": {},
   "outputs": [],
   "source": [
    "n = qq[\"day_slope_z\"].dropna().size\n",
    "bonf_z = norm.ppf(1 - 0.025 / n)\n",
    "np.sum(np.abs(qq[\"day_slope_z\"]) > bonf_z)\n",
    "print(n)\n",
    "print(bonf_z)"
   ]
  },
  {
   "cell_type": "markdown",
   "id": "57",
   "metadata": {},
   "source": [
    "Below we plot the order statistics of the absolute values of the day slope z-scores (blue curve) in relation to the threshold that controls the family-wise error rate at 0.05 (purple line)."
   ]
  },
  {
   "cell_type": "code",
   "execution_count": null,
   "id": "58",
   "metadata": {},
   "outputs": [],
   "source": [
    "z = np.abs(qq[\"day_slope_z\"].dropna())\n",
    "z = np.sort(z)[::-1]\n",
    "plt.clf()\n",
    "plt.grid(True)\n",
    "plt.plot(z)\n",
    "plt.axhline(bonf_z, color=\"purple\")\n",
    "plt.xlabel(\"Number of species\")\n",
    "plt.ylabel(\"Absolute Z-score\")"
   ]
  },
  {
   "cell_type": "markdown",
   "id": "59",
   "metadata": {},
   "source": [
    "We can count the number of species that would be deemed statistically significant using the Bonferroni approach to control the FWER at 0.05."
   ]
  },
  {
   "cell_type": "code",
   "execution_count": null,
   "id": "60",
   "metadata": {},
   "outputs": [],
   "source": [
    "(z > bonf_z).sum()"
   ]
  },
  {
   "cell_type": "markdown",
   "id": "61",
   "metadata": {},
   "source": [
    "Below we calculate and plot the local False Discovery Rate (local FDR)."
   ]
  },
  {
   "cell_type": "code",
   "execution_count": null,
   "id": "62",
   "metadata": {},
   "outputs": [],
   "source": [
    "qq[\"locfdr\"] = local_fdr(qq[\"day_slope_z\"])\n",
    "lfdr = np.sort(qq[\"locfdr\"])\n",
    "lfdr = lfdr[lfdr < 1]\n",
    "\n",
    "plt.clf()\n",
    "plt.grid(True)\n",
    "plt.plot(lfdr)\n",
    "plt.xlabel(\"Number of species\")\n",
    "plt.ylabel(\"local FDR\")"
   ]
  },
  {
   "cell_type": "markdown",
   "id": "63",
   "metadata": {},
   "source": [
    "We can count the number of species that would be deemed significant if we aim to control the false discovery rate to 0.1."
   ]
  },
  {
   "cell_type": "code",
   "execution_count": null,
   "id": "64",
   "metadata": {},
   "outputs": [],
   "source": [
    "(qq[\"locfdr\"] <= 0.1).sum()"
   ]
  },
  {
   "cell_type": "markdown",
   "id": "65",
   "metadata": {},
   "source": [
    "Plot the day slope Z-score against the mean latitude, to assess whether there are systematic trends in the Z-scores relative to distance from the equator.  The orange curves are empirical estimates of the 10th and 90th percentiles of the Z-scores at each fixed latitude.  The purple lines are the corresponding reference values under the null hypothesis.  \n",
    "\n",
    "When analyzing the data for \"polypodiopsida\" (ferns), this plot reveals several points of interest.  There is an excess of large Z-scores at every latitude, suggesting that plants are changing their distributions (in latitude terms), and this is happening at all latidues.  Second, there is a symmetry between large positive and large negative Z-scores, suggesting that plants are as likely to move toward the poles as they are to move toward the equator.  Third, there may be slightly stronger evidence for changes in the northern part of the northern hemisphere compared to other regions."
   ]
  },
  {
   "cell_type": "code",
   "execution_count": null,
   "id": "66",
   "metadata": {},
   "outputs": [],
   "source": [
    "alpha = 0.05\n",
    "\n",
    "qq = qq.sort_values(by=\"meanLatitude\")    \n",
    "plt.clf()\n",
    "plt.grid(True)\n",
    "plt.plot(qq[\"meanLatitude\"], qq[\"day_slope_z\"], \"o\", alpha=0.5)\n",
    "y1 = qq[\"day_slope_z\"].rolling(200).quantile(1 - alpha)\n",
    "y2 = qq[\"day_slope_z\"].rolling(200).quantile(alpha)\n",
    "plt.plot(qq[\"meanLatitude\"], y1, color=\"orange\")\n",
    "plt.plot(qq[\"meanLatitude\"], y2, color=\"orange\")\n",
    "z = norm.ppf(1 - alpha)\n",
    "plt.axhline(z, color=\"purple\")\n",
    "plt.axhline(-z, color=\"purple\")\n",
    "plt.xlabel(\"Mean latitude\", size=15)\n",
    "plt.ylabel(\"Day slope (Z)\", size=15)\n",
    "plt.show()"
   ]
  },
  {
   "cell_type": "markdown",
   "id": "67",
   "metadata": {},
   "source": [
    "Next we plot the local FDR against the day slope Z-score.  This plot shows that small FDRs (<0.1) are obtained for Z-scores exceeding 3 in magnitude."
   ]
  },
  {
   "cell_type": "code",
   "execution_count": null,
   "id": "68",
   "metadata": {},
   "outputs": [],
   "source": [
    "plt.clf()\n",
    "plt.grid(True)\n",
    "plt.plot(qq[\"day_slope_z\"], qq[\"locfdr\"], \"o\", alpha=0.5)\n",
    "plt.xlabel(\"Day slope (Z)\", size=15)\n",
    "plt.ylabel(\"Local FDR\", size=15)"
   ]
  },
  {
   "cell_type": "markdown",
   "id": "69",
   "metadata": {},
   "source": [
    "Next we plot the day slope Z-score against the sample size.  If we are mainly limited by power then the larger Z-scores will be concentrated where the sample size is larger.  This plot makes it clear that there are some Z-scores falling far outside the likely range for a standard normal variable, and these values can be either positive or negative.  Most of the largest Z-scores (in magnitude) occur with the larger sample sizes."
   ]
  },
  {
   "cell_type": "code",
   "execution_count": null,
   "id": "70",
   "metadata": {},
   "outputs": [],
   "source": [
    "qq = qq.sort_values(by=\"n\")\n",
    "qq[\"logn\"] = np.log10(qq[\"n\"])\n",
    "plt.clf()\n",
    "plt.grid(True)\n",
    "plt.plot(qq[\"logn\"], qq[\"day_slope_z\"], \"o\", alpha=0.5)\n",
    "y1 = qq[\"day_slope_z\"].rolling(200).quantile(0.05)\n",
    "y2 = qq[\"day_slope_z\"].rolling(200).quantile(0.95)\n",
    "plt.plot(qq[\"logn\"], y1, color=\"orange\")\n",
    "plt.plot(qq[\"logn\"], y2, color=\"orange\")\n",
    "z = norm.ppf(0.95)\n",
    "plt.axhline(z, color=\"purple\")\n",
    "plt.axhline(-z, color=\"purple\")\n",
    "plt.xlabel(\"Log10 n\", size=15)\n",
    "plt.ylabel(\"Day slope (Z)\", size=15)"
   ]
  },
  {
   "cell_type": "markdown",
   "id": "71",
   "metadata": {},
   "source": [
    "We can also smooth the absolute Z-scores against log sample size.  Under the null hypothesis the Z-scores follow a standard normal distribution, and the expectation of the absolute value of a standard normal variate is $\\sqrt{2/\\pi}$, which is plotted below as the purple line.  It appears that there is some overdispersion of the Z-scores for the smaller sample sizes, but the extent of overdispersion (evidence for a relationship between mean latitude and time) is primarily present for the species with more than around $\\exp(6) \\approx 400$ observations."
   ]
  },
  {
   "cell_type": "code",
   "execution_count": null,
   "id": "72",
   "metadata": {},
   "outputs": [],
   "source": [
    "plt.clf()\n",
    "plt.grid(True)\n",
    "x = np.log(qq[\"n\"])\n",
    "y = np.abs(qq[\"day_slope_z\"])\n",
    "plt.plot(x, y, \"o\", alpha=0.5)\n",
    "xy = lowess(y, x)\n",
    "plt.plot(xy[:, 0], xy[:, 1], \"-\", color=\"orange\")\n",
    "plt.axhline(np.sqrt(2/np.pi), color=\"purple\")\n",
    "plt.xlabel(\"Log n\", size=15)\n",
    "plt.ylabel(\"Absolute day slope (|Z|)\", size=15)"
   ]
  }
 ],
 "metadata": {
  "jupytext": {
   "cell_metadata_filter": "-all",
   "main_language": "python",
   "notebook_metadata_filter": "-all"
  },
  "kernelspec": {
   "display_name": "Python 3 (ipykernel)",
   "language": "python",
   "name": "python3"
  },
  "language_info": {
   "codemirror_mode": {
    "name": "ipython",
    "version": 3
   },
   "file_extension": ".py",
   "mimetype": "text/x-python",
   "name": "python",
   "nbconvert_exporter": "python",
   "pygments_lexer": "ipython3",
   "version": "3.10.9"
  }
 },
 "nbformat": 4,
 "nbformat_minor": 5
}
